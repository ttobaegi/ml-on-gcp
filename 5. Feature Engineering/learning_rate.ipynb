{
 "cells": [
  {
   "cell_type": "markdown",
   "metadata": {
    "colab_type": "text",
    "id": "rNdWfPXCjTjY"
   },
   "source": [
    "# Reviewing Learning Curves\n",
    "\n",
    "### Learning objectives\n",
    "\n",
    "1. Build and train a Keras Sequential model\n",
    "2. Specify various learning rates to a model\n",
    "3. Visualize the loss curves\n",
    "\n",
    "\n",
    "## Introduction \n",
    "\n",
    "\n",
    "In this notebook, you will observe learning curve changes. You will use the Keras Sequential Model to build an ML model to predict housing prices.\n",
    "\n",
    "A learning curve is a plot of model learning performance over experience or time.\n",
    "\n",
    "Learning curves are a widely used diagnostic tool in machine learning for algorithms that learn from a training dataset incrementally. The model can be evaluated on the training dataset and on a hold out validation dataset after each update during training and plots of the measured performance can created to show learning curves. Reviewing learning curves of models during training can be used to diagnose problems with learning, such as an underfit or overfit model, as well as whether the training and validation datasets are suitably representative.\n",
    "\n",
    "Adam is an optimization algorithm that can be used instead of the classical stochastic gradient descent procedure to update network weights iterative based in training data. [How to use Learning Curves to Diagnose Machine Learning Model Performance](https://machinelearningmastery.com/learning-curves-for-diagnosing-machine-learning-model-performance/#:~:text=A%20learning%20curve%20is%20a,from%20a%20training%20dataset%20incrementally.&text=Learning%20curves%20are%20plots%20that,time%20in%20terms%20of%20experience).\n",
    "\n",
    "Each learning objective will correspond to a __#TODO__ in the [student lab notebook](https://github.com/GoogleCloudPlatform/training-data-analyst/blob/master/courses/machine_learning/deepdive2/art_and_science_of_ml/labs/learning_rate.ipynb) -- try to complete that notebook first before reviewing this solution notebook. \n"
   ]
  },
  {
   "cell_type": "markdown",
   "metadata": {
    "colab_type": "text",
    "id": "VxyBFc_kKazA"
   },
   "source": [
    "Start by importing the necessary libraries for this lab."
   ]
  },
  {
   "cell_type": "code",
   "execution_count": 1,
   "metadata": {},
   "outputs": [],
   "source": [
    "# Use the chown command to change the ownership of repository to user\n",
    "!sudo chown -R jupyter:jupyter /home/jupyter/training-data-analyst"
   ]
  },
  {
   "cell_type": "code",
   "execution_count": 2,
   "metadata": {},
   "outputs": [
    {
     "name": "stdout",
     "output_type": "stream",
     "text": [
      "Collecting sklearn\n",
      "  Downloading sklearn-0.0.tar.gz (1.1 kB)\n",
      "  Preparing metadata (setup.py) ... \u001b[?25ldone\n",
      "\u001b[?25hRequirement already satisfied: scikit-learn in /opt/conda/lib/python3.7/site-packages (from sklearn) (1.0.1)\n",
      "Requirement already satisfied: scipy>=1.1.0 in /opt/conda/lib/python3.7/site-packages (from scikit-learn->sklearn) (1.7.3)\n",
      "Requirement already satisfied: numpy>=1.14.6 in /opt/conda/lib/python3.7/site-packages (from scikit-learn->sklearn) (1.19.5)\n",
      "Requirement already satisfied: threadpoolctl>=2.0.0 in /opt/conda/lib/python3.7/site-packages (from scikit-learn->sklearn) (3.0.0)\n",
      "Requirement already satisfied: joblib>=0.11 in /opt/conda/lib/python3.7/site-packages (from scikit-learn->sklearn) (1.1.0)\n",
      "Building wheels for collected packages: sklearn\n",
      "  Building wheel for sklearn (setup.py) ... \u001b[?25ldone\n",
      "\u001b[?25h  Created wheel for sklearn: filename=sklearn-0.0-py2.py3-none-any.whl size=1309 sha256=165acf3c79f770963f3523f248fe969ea9fde9f35f22a7356c4070eb2ea0f285\n",
      "  Stored in directory: /home/jupyter/.cache/pip/wheels/46/ef/c3/157e41f5ee1372d1be90b09f74f82b10e391eaacca8f22d33e\n",
      "Successfully built sklearn\n",
      "Installing collected packages: sklearn\n",
      "Successfully installed sklearn-0.0\n"
     ]
    }
   ],
   "source": [
    "# Install Sklearn\n",
    "!python3 -m pip install --user sklearn"
   ]
  },
  {
   "cell_type": "code",
   "execution_count": 3,
   "metadata": {
    "colab": {},
    "colab_type": "code",
    "id": "9dEreb4QKizj"
   },
   "outputs": [
    {
     "name": "stdout",
     "output_type": "stream",
     "text": [
      "TensorFlow version:  2.3.4\n"
     ]
    },
    {
     "name": "stderr",
     "output_type": "stream",
     "text": [
      "Using TensorFlow backend.\n"
     ]
    }
   ],
   "source": [
    "# The OS module in python provides functions for interacting with the operating system\n",
    "import os\n",
    "import tensorflow.keras\n",
    "\n",
    "# The matplotlib module provides all the fuctionalities for visualizing model\n",
    "import matplotlib.pyplot as plt\n",
    "# Here we'll import data processing libraries like Pandas and Tensorflow\n",
    "import pandas as pd\n",
    "import tensorflow as tf\n",
    "\n",
    "from tensorflow import feature_column as fc\n",
    "from tensorflow.keras import layers\n",
    "from tensorflow import keras\n",
    "from tensorflow.keras import layers\n",
    "#from keras.optimizers import Adam\n",
    "#from keras.optimizers import SGD\n",
    "\n",
    "from sklearn.model_selection import train_test_split\n",
    "from keras.utils import plot_model\n",
    "\n",
    "# Here we'll show the currently installed version of TensorFlow\n",
    "print(\"TensorFlow version: \",tf.version.VERSION)"
   ]
  },
  {
   "cell_type": "markdown",
   "metadata": {},
   "source": [
    "Many of the Google Machine Learning Courses Programming Exercises use the  [California Housing Dataset](https://developers.google.com/machine-learning/crash-course/california-housing-data-description\n",
    "), which contains data drawn from the 1990 U.S. Census.  Our lab dataset has been pre-processed so that there are no missing values.\n",
    "\n",
    "First, let's download the raw .csv data by copying the data from a cloud storage bucket.\n"
   ]
  },
  {
   "cell_type": "code",
   "execution_count": 5,
   "metadata": {},
   "outputs": [
    {
     "name": "stdout",
     "output_type": "stream",
     "text": [
      "Copying gs://cloud-training-demos/feat_eng/housing/housing_pre-proc.csv...\n",
      "/ [1 files][  1.4 MiB/  1.4 MiB]                                                \n",
      "Operation completed over 1 objects/1.4 MiB.                                      \n"
     ]
    }
   ],
   "source": [
    "# Create a directory for storing the dataset\n",
    "if not os.path.isdir(\"../data\"):\n",
    "    os.makedirs(\"../data\")\n",
    "\n",
    "# The `gsutil cp` command will Copy the file from Google Cloud Storage in the required directory\n",
    "!gsutil cp gs://cloud-training-demos/feat_eng/housing/housing_pre-proc.csv ../data"
   ]
  },
  {
   "cell_type": "markdown",
   "metadata": {
    "colab_type": "text",
    "id": "lM6-n6xntv3t"
   },
   "source": [
    "Now, let's read in the dataset just copied from the cloud storage bucket and create a Pandas dataframe."
   ]
  },
  {
   "cell_type": "code",
   "execution_count": 6,
   "metadata": {
    "colab": {
     "base_uri": "https://localhost:8080/",
     "height": 222
    },
    "colab_type": "code",
    "id": "REZ57BXCLdfG",
    "outputId": "a6ef2eda-c7eb-4e2d-92e4-e7fcaa20b0af"
   },
   "outputs": [
    {
     "name": "stderr",
     "output_type": "stream",
     "text": [
      "/opt/conda/lib/python3.7/site-packages/IPython/core/interactiveshell.py:3457: FutureWarning: The error_bad_lines argument has been deprecated and will be removed in a future version.\n",
      "\n",
      "\n",
      "  exec(code_obj, self.user_global_ns, self.user_ns)\n"
     ]
    },
    {
     "data": {
      "text/html": [
       "<div>\n",
       "<style scoped>\n",
       "    .dataframe tbody tr th:only-of-type {\n",
       "        vertical-align: middle;\n",
       "    }\n",
       "\n",
       "    .dataframe tbody tr th {\n",
       "        vertical-align: top;\n",
       "    }\n",
       "\n",
       "    .dataframe thead th {\n",
       "        text-align: right;\n",
       "    }\n",
       "</style>\n",
       "<table border=\"1\" class=\"dataframe\">\n",
       "  <thead>\n",
       "    <tr style=\"text-align: right;\">\n",
       "      <th></th>\n",
       "      <th>longitude</th>\n",
       "      <th>latitude</th>\n",
       "      <th>housing_median_age</th>\n",
       "      <th>total_rooms</th>\n",
       "      <th>total_bedrooms</th>\n",
       "      <th>population</th>\n",
       "      <th>households</th>\n",
       "      <th>median_income</th>\n",
       "      <th>median_house_value</th>\n",
       "      <th>ocean_proximity</th>\n",
       "    </tr>\n",
       "  </thead>\n",
       "  <tbody>\n",
       "    <tr>\n",
       "      <th>0</th>\n",
       "      <td>-122.23</td>\n",
       "      <td>37.88</td>\n",
       "      <td>41.0</td>\n",
       "      <td>880.0</td>\n",
       "      <td>129.0</td>\n",
       "      <td>322.0</td>\n",
       "      <td>126.0</td>\n",
       "      <td>8.3252</td>\n",
       "      <td>452600.0</td>\n",
       "      <td>NEAR BAY</td>\n",
       "    </tr>\n",
       "    <tr>\n",
       "      <th>1</th>\n",
       "      <td>-122.22</td>\n",
       "      <td>37.86</td>\n",
       "      <td>21.0</td>\n",
       "      <td>7099.0</td>\n",
       "      <td>1106.0</td>\n",
       "      <td>2401.0</td>\n",
       "      <td>1138.0</td>\n",
       "      <td>8.3014</td>\n",
       "      <td>358500.0</td>\n",
       "      <td>NEAR BAY</td>\n",
       "    </tr>\n",
       "    <tr>\n",
       "      <th>2</th>\n",
       "      <td>-122.24</td>\n",
       "      <td>37.85</td>\n",
       "      <td>52.0</td>\n",
       "      <td>1467.0</td>\n",
       "      <td>190.0</td>\n",
       "      <td>496.0</td>\n",
       "      <td>177.0</td>\n",
       "      <td>7.2574</td>\n",
       "      <td>352100.0</td>\n",
       "      <td>NEAR BAY</td>\n",
       "    </tr>\n",
       "    <tr>\n",
       "      <th>3</th>\n",
       "      <td>-122.25</td>\n",
       "      <td>37.85</td>\n",
       "      <td>52.0</td>\n",
       "      <td>1274.0</td>\n",
       "      <td>235.0</td>\n",
       "      <td>558.0</td>\n",
       "      <td>219.0</td>\n",
       "      <td>5.6431</td>\n",
       "      <td>341300.0</td>\n",
       "      <td>NEAR BAY</td>\n",
       "    </tr>\n",
       "    <tr>\n",
       "      <th>4</th>\n",
       "      <td>-122.25</td>\n",
       "      <td>37.85</td>\n",
       "      <td>52.0</td>\n",
       "      <td>1627.0</td>\n",
       "      <td>280.0</td>\n",
       "      <td>565.0</td>\n",
       "      <td>259.0</td>\n",
       "      <td>3.8462</td>\n",
       "      <td>342200.0</td>\n",
       "      <td>NEAR BAY</td>\n",
       "    </tr>\n",
       "  </tbody>\n",
       "</table>\n",
       "</div>"
      ],
      "text/plain": [
       "   longitude  latitude  housing_median_age  total_rooms  total_bedrooms  \\\n",
       "0    -122.23     37.88                41.0        880.0           129.0   \n",
       "1    -122.22     37.86                21.0       7099.0          1106.0   \n",
       "2    -122.24     37.85                52.0       1467.0           190.0   \n",
       "3    -122.25     37.85                52.0       1274.0           235.0   \n",
       "4    -122.25     37.85                52.0       1627.0           280.0   \n",
       "\n",
       "   population  households  median_income  median_house_value ocean_proximity  \n",
       "0       322.0       126.0         8.3252            452600.0        NEAR BAY  \n",
       "1      2401.0      1138.0         8.3014            358500.0        NEAR BAY  \n",
       "2       496.0       177.0         7.2574            352100.0        NEAR BAY  \n",
       "3       558.0       219.0         5.6431            341300.0        NEAR BAY  \n",
       "4       565.0       259.0         3.8462            342200.0        NEAR BAY  "
      ]
     },
     "execution_count": 6,
     "metadata": {},
     "output_type": "execute_result"
    }
   ],
   "source": [
    "# Reading `housing_pre-proc.csv` file using the read_csv() function included in the pandas library\n",
    "housing_df = pd.read_csv('../data/housing_pre-proc.csv', error_bad_lines=False)\n",
    "# Output the first five rows\n",
    "housing_df.head()"
   ]
  },
  {
   "cell_type": "markdown",
   "metadata": {},
   "source": [
    "We can use .describe() to see some summary statistics for the numeric fields in our dataframe. Note, for example, the count row and corresponding columns. The count shows 20433.000000 for all feature columns. Thus, there are no missing values."
   ]
  },
  {
   "cell_type": "markdown",
   "metadata": {
    "colab_type": "text",
    "id": "u0zhLtQqMPem"
   },
   "source": [
    "####  Split the dataset for ML\n",
    "\n",
    "The dataset we loaded was a single CSV file. We will split this into train, validation, and test sets.\n"
   ]
  },
  {
   "cell_type": "code",
   "execution_count": 7,
   "metadata": {
    "colab": {
     "base_uri": "https://localhost:8080/",
     "height": 69
    },
    "colab_type": "code",
    "id": "YEOpw7LhMYsI",
    "outputId": "6161a660-7133-465a-d754-d7acae2b68c8"
   },
   "outputs": [
    {
     "name": "stdout",
     "output_type": "stream",
     "text": [
      "13076 train examples\n",
      "3270 validation examples\n",
      "4087 test examples\n"
     ]
    }
   ],
   "source": [
    "train, test = train_test_split(housing_df, test_size=0.2)\n",
    "train, val = train_test_split(train, test_size=0.2)\n",
    "\n",
    "# Let's output the count of `train`, `val` and `test`\n",
    "print(len(train), 'train examples')\n",
    "print(len(val), 'validation examples')\n",
    "print(len(test), 'test examples')\n",
    "\n",
    "# The `to_csv()` method will write object to a csv file.\n",
    "train.to_csv('../data/housing-train.csv', encoding='utf-8', index=False)\n",
    "val.to_csv('../data/housing-val.csv', encoding='utf-8', index=False)\n",
    "test.to_csv('../data/housing-test.csv', encoding='utf-8', index=False)"
   ]
  },
  {
   "cell_type": "code",
   "execution_count": 8,
   "metadata": {},
   "outputs": [
    {
     "name": "stderr",
     "output_type": "stream",
     "text": [
      "2021-12-27 07:23:03.632811: I tensorflow/core/platform/profile_utils/cpu_utils.cc:104] CPU Frequency: 2199995000 Hz\n",
      "2021-12-27 07:23:03.633661: I tensorflow/compiler/xla/service/service.cc:168] XLA service 0x558245df0e30 initialized for platform Host (this does not guarantee that XLA will be used). Devices:\n",
      "2021-12-27 07:23:03.633693: I tensorflow/compiler/xla/service/service.cc:176]   StreamExecutor device (0): Host, Default Version\n",
      "2021-12-27 07:23:03.635834: I tensorflow/core/common_runtime/process_util.cc:146] Creating new thread pool with default inter op setting: 2. Tune using inter_op_parallelism_threads for best performance.\n"
     ]
    }
   ],
   "source": [
    "# A utility method to create a tf.data dataset from a Pandas Dataframe\n",
    "\n",
    "def df_to_dataset(dataframe, shuffle=True, batch_size=32):\n",
    "    dataframe = dataframe.copy()\n",
    "    labels = dataframe.pop('median_house_value')\n",
    "    ds = tf.data.Dataset.from_tensor_slices((dict(dataframe), labels))\n",
    "    if shuffle:\n",
    "        ds = ds.shuffle(buffer_size=len(dataframe))\n",
    "    ds = ds.batch(batch_size)\n",
    "    return ds\n",
    "\n",
    "# Next we initialize the training and validation datasets.\n",
    "batch_size = 32\n",
    "train_ds = df_to_dataset(train)\n",
    "val_ds = df_to_dataset(val, shuffle=False, batch_size=batch_size)\n",
    "\n",
    "# Input Pipeline\n",
    "numeric_cols = ['longitude', 'latitude', 'housing_median_age', 'total_rooms',\n",
    "                'total_bedrooms', 'population', 'households', 'median_income']\n",
    "\n",
    "# Next, we scale the numerical feature columns that we assigned to the variable \"numeric cols\".\n",
    "# Scalar def get_scal(feature):\n",
    "def get_scal(feature):\n",
    "    def minmax(x):\n",
    "        mini = train[feature].min()\n",
    "        maxi = train[feature].max()\n",
    "        return (x - mini)/(maxi-mini)\n",
    "        return(minmax)\n",
    "    \n",
    "feature_columns = []\n",
    "for header in numeric_cols:\n",
    "    scal_input_fn = get_scal(header)\n",
    "    feature_columns.append(fc.numeric_column(header,\n",
    "                                             normalizer_fn=scal_input_fn))\n"
   ]
  },
  {
   "cell_type": "markdown",
   "metadata": {
    "colab_type": "text",
    "id": "9Ug3hB8Sl0jO"
   },
   "source": [
    "### Using the Keras Sequential Model\n",
    "\n",
    "Next, we will run this cell to compile and fit the Keras Sequential model."
   ]
  },
  {
   "cell_type": "markdown",
   "metadata": {
    "jp-MarkdownHeadingCollapsed": true,
    "tags": []
   },
   "source": [
    "## Model 1 - hard cording the learning rate to .5"
   ]
  },
  {
   "cell_type": "code",
   "execution_count": null,
   "metadata": {},
   "outputs": [
    {
     "name": "stdout",
     "output_type": "stream",
     "text": [
      "Epoch 1/32\n",
      "WARNING:tensorflow:Layers in a Sequential model should only have a single input tensor, but we receive a <class 'dict'> input: {'longitude': <tf.Tensor 'ExpandDims_3:0' shape=(None, 1) dtype=float64>, 'latitude': <tf.Tensor 'ExpandDims_2:0' shape=(None, 1) dtype=float64>, 'housing_median_age': <tf.Tensor 'ExpandDims_1:0' shape=(None, 1) dtype=float64>, 'total_rooms': <tf.Tensor 'ExpandDims_8:0' shape=(None, 1) dtype=float64>, 'total_bedrooms': <tf.Tensor 'ExpandDims_7:0' shape=(None, 1) dtype=float64>, 'population': <tf.Tensor 'ExpandDims_6:0' shape=(None, 1) dtype=float64>, 'households': <tf.Tensor 'ExpandDims:0' shape=(None, 1) dtype=float64>, 'median_income': <tf.Tensor 'ExpandDims_4:0' shape=(None, 1) dtype=float64>, 'ocean_proximity': <tf.Tensor 'ExpandDims_5:0' shape=(None, 1) dtype=string>}\n",
      "Consider rewriting this model with the Functional API.\n",
      "WARNING:tensorflow:Layers in a Sequential model should only have a single input tensor, but we receive a <class 'dict'> input: {'longitude': <tf.Tensor 'ExpandDims_3:0' shape=(None, 1) dtype=float64>, 'latitude': <tf.Tensor 'ExpandDims_2:0' shape=(None, 1) dtype=float64>, 'housing_median_age': <tf.Tensor 'ExpandDims_1:0' shape=(None, 1) dtype=float64>, 'total_rooms': <tf.Tensor 'ExpandDims_8:0' shape=(None, 1) dtype=float64>, 'total_bedrooms': <tf.Tensor 'ExpandDims_7:0' shape=(None, 1) dtype=float64>, 'population': <tf.Tensor 'ExpandDims_6:0' shape=(None, 1) dtype=float64>, 'households': <tf.Tensor 'ExpandDims:0' shape=(None, 1) dtype=float64>, 'median_income': <tf.Tensor 'ExpandDims_4:0' shape=(None, 1) dtype=float64>, 'ocean_proximity': <tf.Tensor 'ExpandDims_5:0' shape=(None, 1) dtype=string>}\n",
      "Consider rewriting this model with the Functional API.\n",
      "396/409 [============================>.] - ETA: 0s - loss: 12831446016.0000 - mse: 12831446016.0000WARNING:tensorflow:Layers in a Sequential model should only have a single input tensor, but we receive a <class 'dict'> input: {'longitude': <tf.Tensor 'ExpandDims_3:0' shape=(None, 1) dtype=float64>, 'latitude': <tf.Tensor 'ExpandDims_2:0' shape=(None, 1) dtype=float64>, 'housing_median_age': <tf.Tensor 'ExpandDims_1:0' shape=(None, 1) dtype=float64>, 'total_rooms': <tf.Tensor 'ExpandDims_8:0' shape=(None, 1) dtype=float64>, 'total_bedrooms': <tf.Tensor 'ExpandDims_7:0' shape=(None, 1) dtype=float64>, 'population': <tf.Tensor 'ExpandDims_6:0' shape=(None, 1) dtype=float64>, 'households': <tf.Tensor 'ExpandDims:0' shape=(None, 1) dtype=float64>, 'median_income': <tf.Tensor 'ExpandDims_4:0' shape=(None, 1) dtype=float64>, 'ocean_proximity': <tf.Tensor 'ExpandDims_5:0' shape=(None, 1) dtype=string>}\n",
      "Consider rewriting this model with the Functional API.\n",
      "409/409 [==============================] - 2s 6ms/step - loss: 12803829760.0000 - mse: 12803829760.0000 - val_loss: 16008098816.0000 - val_mse: 16008098816.0000\n",
      "Epoch 2/32\n",
      "409/409 [==============================] - 2s 4ms/step - loss: 12690608128.0000 - mse: 12690608128.0000 - val_loss: 10382160896.0000 - val_mse: 10382160896.0000\n",
      "Epoch 3/32\n",
      "409/409 [==============================] - 2s 5ms/step - loss: 10344593408.0000 - mse: 10344593408.0000 - val_loss: 8717405184.0000 - val_mse: 8717405184.0000\n",
      "Epoch 4/32\n",
      "409/409 [==============================] - 2s 6ms/step - loss: 10178710528.0000 - mse: 10178710528.0000 - val_loss: 9121137664.0000 - val_mse: 9121137664.0000\n",
      "Epoch 5/32\n",
      "409/409 [==============================] - 1s 3ms/step - loss: 9104575488.0000 - mse: 9104575488.0000 - val_loss: 6813319680.0000 - val_mse: 6813319680.0000\n",
      "Epoch 6/32\n",
      "409/409 [==============================] - 3s 6ms/step - loss: 8257463296.0000 - mse: 8257463296.0000 - val_loss: 11032694784.0000 - val_mse: 11032694784.0000\n",
      "Epoch 7/32\n",
      "409/409 [==============================] - 2s 4ms/step - loss: 7389014016.0000 - mse: 7389014016.0000 - val_loss: 6050548224.0000 - val_mse: 6050548224.0000\n",
      "Epoch 8/32\n",
      "409/409 [==============================] - 3s 6ms/step - loss: 7088416256.0000 - mse: 7088416256.0000 - val_loss: 8149807616.0000 - val_mse: 8149807616.0000\n",
      "Epoch 9/32\n",
      "409/409 [==============================] - 2s 5ms/step - loss: 6785494016.0000 - mse: 6785494016.0000 - val_loss: 5781109760.0000 - val_mse: 5781109760.0000\n",
      "Epoch 10/32\n",
      "409/409 [==============================] - 2s 5ms/step - loss: 6623829504.0000 - mse: 6623829504.0000 - val_loss: 7008842752.0000 - val_mse: 7008842752.0000\n",
      "Epoch 11/32\n",
      "409/409 [==============================] - 2s 5ms/step - loss: 6487540224.0000 - mse: 6487540224.0000 - val_loss: 7850824704.0000 - val_mse: 7850824704.0000\n",
      "Epoch 12/32\n",
      "409/409 [==============================] - 2s 6ms/step - loss: 6437636096.0000 - mse: 6437636096.0000 - val_loss: 5745923072.0000 - val_mse: 5745923072.0000\n",
      "Epoch 13/32\n",
      "409/409 [==============================] - 2s 5ms/step - loss: 6887163392.0000 - mse: 6887163392.0000 - val_loss: 6541692928.0000 - val_mse: 6541692928.0000\n",
      "Epoch 14/32\n",
      "409/409 [==============================] - 2s 5ms/step - loss: 6435659776.0000 - mse: 6435659776.0000 - val_loss: 5769650176.0000 - val_mse: 5769650176.0000\n",
      "Epoch 15/32\n",
      "409/409 [==============================] - 3s 8ms/step - loss: 6757162496.0000 - mse: 6757162496.0000 - val_loss: 8746807296.0000 - val_mse: 8746807296.0000\n",
      "Epoch 16/32\n",
      "409/409 [==============================] - 3s 8ms/step - loss: 6429295104.0000 - mse: 6429295104.0000 - val_loss: 6189438976.0000 - val_mse: 6189438976.0000\n",
      "Epoch 17/32\n",
      "409/409 [==============================] - 3s 8ms/step - loss: 6780630528.0000 - mse: 6780630528.0000 - val_loss: 5768364544.0000 - val_mse: 5768364544.0000\n",
      "Epoch 18/32\n",
      "409/409 [==============================] - 4s 9ms/step - loss: 6619187712.0000 - mse: 6619187712.0000 - val_loss: 6027949568.0000 - val_mse: 6027949568.0000\n",
      "Epoch 19/32\n",
      "409/409 [==============================] - 4s 11ms/step - loss: 6368037888.0000 - mse: 6368037888.0000 - val_loss: 11436455936.0000 - val_mse: 11436455936.0000\n",
      "Epoch 20/32\n",
      "409/409 [==============================] - 4s 9ms/step - loss: 6172955136.0000 - mse: 6172955136.0000 - val_loss: 5672260096.0000 - val_mse: 5672260096.0000\n",
      "Epoch 21/32\n",
      "409/409 [==============================] - 3s 8ms/step - loss: 6153320960.0000 - mse: 6153320960.0000 - val_loss: 5728340480.0000 - val_mse: 5728340480.0000\n",
      "Epoch 22/32\n",
      "409/409 [==============================] - 2s 6ms/step - loss: 6162958848.0000 - mse: 6162958848.0000 - val_loss: 6421804032.0000 - val_mse: 6421804032.0000\n",
      "Epoch 23/32\n",
      "409/409 [==============================] - 4s 9ms/step - loss: 6181958656.0000 - mse: 6181958656.0000 - val_loss: 6114543104.0000 - val_mse: 6114543104.0000\n",
      "Epoch 24/32\n",
      "409/409 [==============================] - 3s 7ms/step - loss: 6303020032.0000 - mse: 6303020032.0000 - val_loss: 5734373376.0000 - val_mse: 5734373376.0000\n",
      "Epoch 25/32\n",
      "409/409 [==============================] - 3s 7ms/step - loss: 6461294592.0000 - mse: 6461294592.0000 - val_loss: 6475553280.0000 - val_mse: 6475553280.0000\n",
      "Epoch 26/32\n",
      "409/409 [==============================] - 3s 7ms/step - loss: 7472130048.0000 - mse: 7472130048.0000 - val_loss: 6280714240.0000 - val_mse: 6280714240.0000\n",
      "Epoch 27/32\n",
      "409/409 [==============================] - 3s 8ms/step - loss: 6216420864.0000 - mse: 6216420864.0000 - val_loss: 6727153152.0000 - val_mse: 6727153152.0000\n",
      "Epoch 28/32\n",
      "409/409 [==============================] - 3s 8ms/step - loss: 11654541312.0000 - mse: 11654541312.0000 - val_loss: 13584472064.0000 - val_mse: 13584472064.0000\n",
      "Epoch 29/32\n",
      "409/409 [==============================] - 3s 8ms/step - loss: 13569536000.0000 - mse: 13569536000.0000 - val_loss: 13582219264.0000 - val_mse: 13582219264.0000\n",
      "Epoch 30/32\n",
      "409/409 [==============================] - 4s 11ms/step - loss: 13496230912.0000 - mse: 13496230912.0000 - val_loss: 13892397056.0000 - val_mse: 13892397056.0000\n",
      "Epoch 31/32\n",
      "409/409 [==============================] - 4s 9ms/step - loss: 13634840576.0000 - mse: 13634840576.0000 - val_loss: 13313166336.0000 - val_mse: 13313166336.0000\n",
      "Epoch 32/32\n",
      "409/409 [==============================] - 4s 10ms/step - loss: 13463083008.0000 - mse: 13463083008.0000 - val_loss: 13205590016.0000 - val_mse: 13205590016.0000\n"
     ]
    }
   ],
   "source": [
    "#TODO 1\n",
    "# Model create\n",
    "\n",
    "feature_layer = tf.keras.layers.DenseFeatures(feature_columns, dtype='float64')\n",
    "\n",
    "model = tf.keras.Sequential([\n",
    "  feature_layer,\n",
    "  layers.Dense(12, input_dim=8, activation='relu'),\n",
    "  layers.Dense(8, activation='relu'),\n",
    "  layers.Dense(1, activation='linear',  name='median_house_value')\n",
    "])\n",
    "\n",
    "# Model compile\n",
    " #TODO 2a\n",
    "opt = keras.optimizers.Adam(learning_rate=.5)\n",
    "model.compile(optimizer=opt,\n",
    "              loss='mse',\n",
    "              metrics=['mse'])\n",
    "\n",
    "# Model Fit\n",
    "# Using the `fit()` method we can train our model\n",
    "history = model.fit(train_ds,\n",
    "                    validation_data=val_ds,\n",
    "                    epochs=32)"
   ]
  },
  {
   "cell_type": "code",
   "execution_count": 10,
   "metadata": {},
   "outputs": [
    {
     "data": {
      "image/png": "[encoded data removed]",
      "text/plain": [
       "<Figure size 720x360 with 2 Axes>"
      ]
     },
     "metadata": {
      "needs_background": "light"
     },
     "output_type": "display_data"
    }
   ],
   "source": [
    "def plot_curves(history, metrics):\n",
    "    nrows = 1\n",
    "    ncols = 2\n",
    "# Using the `figure()` method we can create a new figure or activate an existing figure.\n",
    "    fig = plt.figure(figsize=(10, 5))\n",
    "\n",
    "    for idx, key in enumerate(metrics):  \n",
    "# Using the `add_subplot()` method we can add a subplot to the current figure.\n",
    "        ax = fig.add_subplot(nrows, ncols, idx+1)\n",
    "# The `plot()` is a versatile function and will take an arbitrary number of arguments. \n",
    "        plt.plot(history.history[key])\n",
    "        plt.plot(history.history['val_{}'.format(key)])\n",
    "        plt.title('model {}'.format(key))\n",
    "        plt.ylabel(key)\n",
    "        plt.xlabel('epoch')\n",
    "# Using the `legend()` method we can place a legend on the axes.\n",
    "        plt.legend(['train', 'validation'], loc='upper left'); \n",
    "plot_curves(history, ['loss', 'mse'])"
   ]
  },
  {
   "cell_type": "markdown",
   "metadata": {},
   "source": [
    "## Model 2 - hard cording the learning rate to .1"
   ]
  },
  {
   "cell_type": "code",
   "execution_count": 11,
   "metadata": {},
   "outputs": [
    {
     "name": "stdout",
     "output_type": "stream",
     "text": [
      "Epoch 1/32\n",
      "WARNING:tensorflow:Layers in a Sequential model should only have a single input tensor, but we receive a <class 'dict'> input: {'longitude': <tf.Tensor 'ExpandDims_3:0' shape=(None, 1) dtype=float64>, 'latitude': <tf.Tensor 'ExpandDims_2:0' shape=(None, 1) dtype=float64>, 'housing_median_age': <tf.Tensor 'ExpandDims_1:0' shape=(None, 1) dtype=float64>, 'total_rooms': <tf.Tensor 'ExpandDims_8:0' shape=(None, 1) dtype=float64>, 'total_bedrooms': <tf.Tensor 'ExpandDims_7:0' shape=(None, 1) dtype=float64>, 'population': <tf.Tensor 'ExpandDims_6:0' shape=(None, 1) dtype=float64>, 'households': <tf.Tensor 'ExpandDims:0' shape=(None, 1) dtype=float64>, 'median_income': <tf.Tensor 'ExpandDims_4:0' shape=(None, 1) dtype=float64>, 'ocean_proximity': <tf.Tensor 'ExpandDims_5:0' shape=(None, 1) dtype=string>}\n",
      "Consider rewriting this model with the Functional API.\n",
      "WARNING:tensorflow:Layers in a Sequential model should only have a single input tensor, but we receive a <class 'dict'> input: {'longitude': <tf.Tensor 'ExpandDims_3:0' shape=(None, 1) dtype=float64>, 'latitude': <tf.Tensor 'ExpandDims_2:0' shape=(None, 1) dtype=float64>, 'housing_median_age': <tf.Tensor 'ExpandDims_1:0' shape=(None, 1) dtype=float64>, 'total_rooms': <tf.Tensor 'ExpandDims_8:0' shape=(None, 1) dtype=float64>, 'total_bedrooms': <tf.Tensor 'ExpandDims_7:0' shape=(None, 1) dtype=float64>, 'population': <tf.Tensor 'ExpandDims_6:0' shape=(None, 1) dtype=float64>, 'households': <tf.Tensor 'ExpandDims:0' shape=(None, 1) dtype=float64>, 'median_income': <tf.Tensor 'ExpandDims_4:0' shape=(None, 1) dtype=float64>, 'ocean_proximity': <tf.Tensor 'ExpandDims_5:0' shape=(None, 1) dtype=string>}\n",
      "Consider rewriting this model with the Functional API.\n",
      "407/409 [============================>.] - ETA: 0s - loss: 15284468736.0000 - mse: 15284468736.0000WARNING:tensorflow:Layers in a Sequential model should only have a single input tensor, but we receive a <class 'dict'> input: {'longitude': <tf.Tensor 'ExpandDims_3:0' shape=(None, 1) dtype=float64>, 'latitude': <tf.Tensor 'ExpandDims_2:0' shape=(None, 1) dtype=float64>, 'housing_median_age': <tf.Tensor 'ExpandDims_1:0' shape=(None, 1) dtype=float64>, 'total_rooms': <tf.Tensor 'ExpandDims_8:0' shape=(None, 1) dtype=float64>, 'total_bedrooms': <tf.Tensor 'ExpandDims_7:0' shape=(None, 1) dtype=float64>, 'population': <tf.Tensor 'ExpandDims_6:0' shape=(None, 1) dtype=float64>, 'households': <tf.Tensor 'ExpandDims:0' shape=(None, 1) dtype=float64>, 'median_income': <tf.Tensor 'ExpandDims_4:0' shape=(None, 1) dtype=float64>, 'ocean_proximity': <tf.Tensor 'ExpandDims_5:0' shape=(None, 1) dtype=string>}\n",
      "Consider rewriting this model with the Functional API.\n",
      "409/409 [==============================] - 4s 11ms/step - loss: 15250624512.0000 - mse: 15250624512.0000 - val_loss: 11094543360.0000 - val_mse: 11094543360.0000\n",
      "Epoch 2/32\n",
      "409/409 [==============================] - 4s 9ms/step - loss: 9992722432.0000 - mse: 9992722432.0000 - val_loss: 8649297920.0000 - val_mse: 8649297920.0000\n",
      "Epoch 3/32\n",
      "409/409 [==============================] - 4s 11ms/step - loss: 9151155200.0000 - mse: 9151155200.0000 - val_loss: 8737901568.0000 - val_mse: 8737901568.0000\n",
      "Epoch 4/32\n",
      "409/409 [==============================] - 4s 11ms/step - loss: 8805682176.0000 - mse: 8805682176.0000 - val_loss: 8497144832.0000 - val_mse: 8497144832.0000\n",
      "Epoch 5/32\n",
      "409/409 [==============================] - 4s 10ms/step - loss: 8111690240.0000 - mse: 8111690240.0000 - val_loss: 7337142784.0000 - val_mse: 7337142784.0000\n",
      "Epoch 6/32\n",
      "409/409 [==============================] - 4s 10ms/step - loss: 7492038656.0000 - mse: 7492038656.0000 - val_loss: 6915432448.0000 - val_mse: 6915432448.0000\n",
      "Epoch 7/32\n",
      "409/409 [==============================] - 5s 11ms/step - loss: 7263591424.0000 - mse: 7263591424.0000 - val_loss: 6563328512.0000 - val_mse: 6563328512.0000\n",
      "Epoch 8/32\n",
      "409/409 [==============================] - 4s 9ms/step - loss: 6874588672.0000 - mse: 6874588672.0000 - val_loss: 6677376000.0000 - val_mse: 6677376000.0000\n",
      "Epoch 9/32\n",
      "409/409 [==============================] - 4s 10ms/step - loss: 6832536576.0000 - mse: 6832536576.0000 - val_loss: 6569374208.0000 - val_mse: 6569374208.0000\n",
      "Epoch 10/32\n",
      "409/409 [==============================] - 4s 9ms/step - loss: 6335422976.0000 - mse: 6335422976.0000 - val_loss: 6462856704.0000 - val_mse: 6462856704.0000\n",
      "Epoch 11/32\n",
      "409/409 [==============================] - 4s 9ms/step - loss: 6625678336.0000 - mse: 6625678336.0000 - val_loss: 6111428096.0000 - val_mse: 6111428096.0000\n",
      "Epoch 12/32\n",
      "409/409 [==============================] - 3s 7ms/step - loss: 6412505600.0000 - mse: 6412505600.0000 - val_loss: 6112203776.0000 - val_mse: 6112203776.0000\n",
      "Epoch 13/32\n",
      "409/409 [==============================] - 3s 8ms/step - loss: 6442678784.0000 - mse: 6442678784.0000 - val_loss: 6095508992.0000 - val_mse: 6095508992.0000\n",
      "Epoch 14/32\n",
      "409/409 [==============================] - 3s 8ms/step - loss: 6433861632.0000 - mse: 6433861632.0000 - val_loss: 5693290496.0000 - val_mse: 5693290496.0000\n",
      "Epoch 15/32\n",
      "409/409 [==============================] - 3s 7ms/step - loss: 6121787904.0000 - mse: 6121787904.0000 - val_loss: 5653926912.0000 - val_mse: 5653926912.0000\n",
      "Epoch 16/32\n",
      "409/409 [==============================] - 2s 6ms/step - loss: 5910182912.0000 - mse: 5910182912.0000 - val_loss: 5603253248.0000 - val_mse: 5603253248.0000\n",
      "Epoch 17/32\n",
      "409/409 [==============================] - 3s 7ms/step - loss: 5917000704.0000 - mse: 5917000704.0000 - val_loss: 7677189120.0000 - val_mse: 7677189120.0000\n",
      "Epoch 18/32\n",
      "409/409 [==============================] - 3s 7ms/step - loss: 5857628672.0000 - mse: 5857628672.0000 - val_loss: 6028258816.0000 - val_mse: 6028258816.0000\n",
      "Epoch 19/32\n",
      "409/409 [==============================] - 2s 6ms/step - loss: 5581239808.0000 - mse: 5581239808.0000 - val_loss: 5388411392.0000 - val_mse: 5388411392.0000\n",
      "Epoch 20/32\n",
      "409/409 [==============================] - 2s 4ms/step - loss: 5577806336.0000 - mse: 5577806336.0000 - val_loss: 5416619520.0000 - val_mse: 5416619520.0000\n",
      "Epoch 21/32\n",
      "409/409 [==============================] - 2s 5ms/step - loss: 6071261696.0000 - mse: 6071261696.0000 - val_loss: 6306095104.0000 - val_mse: 6306095104.0000\n",
      "Epoch 22/32\n",
      "409/409 [==============================] - 2s 4ms/step - loss: 6017380352.0000 - mse: 6017380352.0000 - val_loss: 5867851264.0000 - val_mse: 5867851264.0000\n",
      "Epoch 23/32\n",
      "409/409 [==============================] - 2s 5ms/step - loss: 6008010752.0000 - mse: 6008010752.0000 - val_loss: 5441311744.0000 - val_mse: 5441311744.0000\n",
      "Epoch 24/32\n",
      "409/409 [==============================] - 2s 5ms/step - loss: 5778916352.0000 - mse: 5778916352.0000 - val_loss: 5382384640.0000 - val_mse: 5382384640.0000\n",
      "Epoch 25/32\n",
      "409/409 [==============================] - 2s 6ms/step - loss: 5770746368.0000 - mse: 5770746368.0000 - val_loss: 5441147904.0000 - val_mse: 5441147904.0000\n",
      "Epoch 26/32\n",
      "409/409 [==============================] - 2s 5ms/step - loss: 5681476608.0000 - mse: 5681476608.0000 - val_loss: 5380598272.0000 - val_mse: 5380598272.0000\n",
      "Epoch 27/32\n",
      "409/409 [==============================] - 2s 4ms/step - loss: 5998169088.0000 - mse: 5998169088.0000 - val_loss: 5453613056.0000 - val_mse: 5453613056.0000\n",
      "Epoch 28/32\n",
      "409/409 [==============================] - 2s 4ms/step - loss: 5567793152.0000 - mse: 5567793152.0000 - val_loss: 5345219072.0000 - val_mse: 5345219072.0000\n",
      "Epoch 29/32\n",
      "409/409 [==============================] - 2s 4ms/step - loss: 5561878528.0000 - mse: 5561878528.0000 - val_loss: 5306450432.0000 - val_mse: 5306450432.0000\n",
      "Epoch 30/32\n",
      "409/409 [==============================] - 2s 5ms/step - loss: 5536210432.0000 - mse: 5536210432.0000 - val_loss: 6778522624.0000 - val_mse: 6778522624.0000\n",
      "Epoch 31/32\n",
      "409/409 [==============================] - 2s 5ms/step - loss: 5749892096.0000 - mse: 5749892096.0000 - val_loss: 5702647296.0000 - val_mse: 5702647296.0000\n",
      "Epoch 32/32\n",
      "409/409 [==============================] - 3s 7ms/step - loss: 6162183680.0000 - mse: 6162183680.0000 - val_loss: 6100270080.0000 - val_mse: 6100270080.0000\n"
     ]
    }
   ],
   "source": [
    "# Model create\n",
    "feature_layer = tf.keras.layers.DenseFeatures(feature_columns, dtype='float64')\n",
    "\n",
    "model = tf.keras.Sequential([\n",
    "  feature_layer,\n",
    "  layers.Dense(12, input_dim=8, activation='relu'),\n",
    "  layers.Dense(8, activation='relu'),\n",
    "  layers.Dense(1, activation='linear',  name='median_house_value')\n",
    "])\n",
    "\n",
    "# Model compile\n",
    " #TODO 2b\n",
    "model.compile(optimizer=keras.optimizers.Adam(learning_rate=0.1),\n",
    "              loss='mse',\n",
    "              metrics=['mse'])\n",
    "\n",
    "# Model Fit\n",
    "# Using the `fit()` method we can train our model\n",
    "history = model.fit(train_ds,\n",
    "                    validation_data=val_ds,\n",
    "                    epochs=32)"
   ]
  },
  {
   "cell_type": "code",
   "execution_count": 12,
   "metadata": {},
   "outputs": [
    {
     "data": {
      "image/png": "[encoded data removed]",
      "text/plain": [
       "<Figure size 720x360 with 2 Axes>"
      ]
     },
     "metadata": {
      "needs_background": "light"
     },
     "output_type": "display_data"
    }
   ],
   "source": [
    "def plot_curves(history, metrics):\n",
    "    nrows = 1\n",
    "    ncols = 2\n",
    "# Using the `figure()` method we can create a new figure or activate an existing figure.\n",
    "    fig = plt.figure(figsize=(10, 5))\n",
    "\n",
    "    for idx, key in enumerate(metrics):  \n",
    "# Using the `add_subplot()` method we can add a subplot to the current figure.\n",
    "        ax = fig.add_subplot(nrows, ncols, idx+1)\n",
    "# The `plot()` is a versatile function and will take an arbitrary number of arguments. \n",
    "        plt.plot(history.history[key])\n",
    "        plt.plot(history.history['val_{}'.format(key)])\n",
    "        plt.title('model {}'.format(key))\n",
    "        plt.ylabel(key)\n",
    "        plt.xlabel('epoch')\n",
    "# Using the `legend()` method we can place a legend on the axes.\n",
    "        plt.legend(['train', 'validation'], loc='upper left');  \n",
    "plot_curves(history, ['loss', 'mse'])"
   ]
  },
  {
   "cell_type": "markdown",
   "metadata": {},
   "source": [
    "## Model 3 - hard cording the learning rate to .01 "
   ]
  },
  {
   "cell_type": "code",
   "execution_count": 13,
   "metadata": {},
   "outputs": [
    {
     "name": "stdout",
     "output_type": "stream",
     "text": [
      "Epoch 1/32\n",
      "WARNING:tensorflow:Layers in a Sequential model should only have a single input tensor, but we receive a <class 'dict'> input: {'longitude': <tf.Tensor 'ExpandDims_3:0' shape=(None, 1) dtype=float64>, 'latitude': <tf.Tensor 'ExpandDims_2:0' shape=(None, 1) dtype=float64>, 'housing_median_age': <tf.Tensor 'ExpandDims_1:0' shape=(None, 1) dtype=float64>, 'total_rooms': <tf.Tensor 'ExpandDims_8:0' shape=(None, 1) dtype=float64>, 'total_bedrooms': <tf.Tensor 'ExpandDims_7:0' shape=(None, 1) dtype=float64>, 'population': <tf.Tensor 'ExpandDims_6:0' shape=(None, 1) dtype=float64>, 'households': <tf.Tensor 'ExpandDims:0' shape=(None, 1) dtype=float64>, 'median_income': <tf.Tensor 'ExpandDims_4:0' shape=(None, 1) dtype=float64>, 'ocean_proximity': <tf.Tensor 'ExpandDims_5:0' shape=(None, 1) dtype=string>}\n",
      "Consider rewriting this model with the Functional API.\n",
      "WARNING:tensorflow:Layers in a Sequential model should only have a single input tensor, but we receive a <class 'dict'> input: {'longitude': <tf.Tensor 'ExpandDims_3:0' shape=(None, 1) dtype=float64>, 'latitude': <tf.Tensor 'ExpandDims_2:0' shape=(None, 1) dtype=float64>, 'housing_median_age': <tf.Tensor 'ExpandDims_1:0' shape=(None, 1) dtype=float64>, 'total_rooms': <tf.Tensor 'ExpandDims_8:0' shape=(None, 1) dtype=float64>, 'total_bedrooms': <tf.Tensor 'ExpandDims_7:0' shape=(None, 1) dtype=float64>, 'population': <tf.Tensor 'ExpandDims_6:0' shape=(None, 1) dtype=float64>, 'households': <tf.Tensor 'ExpandDims:0' shape=(None, 1) dtype=float64>, 'median_income': <tf.Tensor 'ExpandDims_4:0' shape=(None, 1) dtype=float64>, 'ocean_proximity': <tf.Tensor 'ExpandDims_5:0' shape=(None, 1) dtype=string>}\n",
      "Consider rewriting this model with the Functional API.\n",
      "402/409 [============================>.] - ETA: 0s - loss: 28073584640.0000 - mse: 28073584640.0000WARNING:tensorflow:Layers in a Sequential model should only have a single input tensor, but we receive a <class 'dict'> input: {'longitude': <tf.Tensor 'ExpandDims_3:0' shape=(None, 1) dtype=float64>, 'latitude': <tf.Tensor 'ExpandDims_2:0' shape=(None, 1) dtype=float64>, 'housing_median_age': <tf.Tensor 'ExpandDims_1:0' shape=(None, 1) dtype=float64>, 'total_rooms': <tf.Tensor 'ExpandDims_8:0' shape=(None, 1) dtype=float64>, 'total_bedrooms': <tf.Tensor 'ExpandDims_7:0' shape=(None, 1) dtype=float64>, 'population': <tf.Tensor 'ExpandDims_6:0' shape=(None, 1) dtype=float64>, 'households': <tf.Tensor 'ExpandDims:0' shape=(None, 1) dtype=float64>, 'median_income': <tf.Tensor 'ExpandDims_4:0' shape=(None, 1) dtype=float64>, 'ocean_proximity': <tf.Tensor 'ExpandDims_5:0' shape=(None, 1) dtype=string>}\n",
      "Consider rewriting this model with the Functional API.\n",
      "409/409 [==============================] - 2s 5ms/step - loss: 27902572544.0000 - mse: 27902572544.0000 - val_loss: 19226413056.0000 - val_mse: 19226413056.0000\n",
      "Epoch 2/32\n",
      "409/409 [==============================] - 2s 4ms/step - loss: 13441617920.0000 - mse: 13441617920.0000 - val_loss: 11008393216.0000 - val_mse: 11008393216.0000\n",
      "Epoch 3/32\n",
      "409/409 [==============================] - 2s 5ms/step - loss: 11110641664.0000 - mse: 11110641664.0000 - val_loss: 10508767232.0000 - val_mse: 10508767232.0000\n",
      "Epoch 4/32\n",
      "409/409 [==============================] - 2s 5ms/step - loss: 10749261824.0000 - mse: 10749261824.0000 - val_loss: 10221400064.0000 - val_mse: 10221400064.0000\n",
      "Epoch 5/32\n",
      "409/409 [==============================] - 2s 4ms/step - loss: 10386900992.0000 - mse: 10386900992.0000 - val_loss: 9812106240.0000 - val_mse: 9812106240.0000\n",
      "Epoch 6/32\n",
      "409/409 [==============================] - 2s 6ms/step - loss: 9996816384.0000 - mse: 9996816384.0000 - val_loss: 9421853696.0000 - val_mse: 9421853696.0000\n",
      "Epoch 7/32\n",
      "409/409 [==============================] - 2s 5ms/step - loss: 9601189888.0000 - mse: 9601189888.0000 - val_loss: 9551782912.0000 - val_mse: 9551782912.0000\n",
      "Epoch 8/32\n",
      "409/409 [==============================] - 2s 6ms/step - loss: 9274087424.0000 - mse: 9274087424.0000 - val_loss: 8696467456.0000 - val_mse: 8696467456.0000\n",
      "Epoch 9/32\n",
      "409/409 [==============================] - 2s 5ms/step - loss: 8891409408.0000 - mse: 8891409408.0000 - val_loss: 8310115328.0000 - val_mse: 8310115328.0000\n",
      "Epoch 10/32\n",
      "409/409 [==============================] - 2s 4ms/step - loss: 8572336640.0000 - mse: 8572336640.0000 - val_loss: 7988574208.0000 - val_mse: 7988574208.0000\n",
      "Epoch 11/32\n",
      "409/409 [==============================] - 2s 5ms/step - loss: 8270685696.0000 - mse: 8270685696.0000 - val_loss: 8104755200.0000 - val_mse: 8104755200.0000\n",
      "Epoch 12/32\n",
      "409/409 [==============================] - 2s 5ms/step - loss: 7974520320.0000 - mse: 7974520320.0000 - val_loss: 7514843648.0000 - val_mse: 7514843648.0000\n",
      "Epoch 13/32\n",
      "409/409 [==============================] - 2s 5ms/step - loss: 7703883264.0000 - mse: 7703883264.0000 - val_loss: 7291217920.0000 - val_mse: 7291217920.0000\n",
      "Epoch 14/32\n",
      "409/409 [==============================] - 3s 6ms/step - loss: 7458367488.0000 - mse: 7458367488.0000 - val_loss: 7207149568.0000 - val_mse: 7207149568.0000\n",
      "Epoch 15/32\n",
      "409/409 [==============================] - 3s 6ms/step - loss: 7291784192.0000 - mse: 7291784192.0000 - val_loss: 7083836416.0000 - val_mse: 7083836416.0000\n",
      "Epoch 16/32\n",
      "409/409 [==============================] - 2s 5ms/step - loss: 7138211328.0000 - mse: 7138211328.0000 - val_loss: 6941832192.0000 - val_mse: 6941832192.0000\n",
      "Epoch 17/32\n",
      "409/409 [==============================] - 2s 4ms/step - loss: 6906791424.0000 - mse: 6906791424.0000 - val_loss: 6674049536.0000 - val_mse: 6674049536.0000\n",
      "Epoch 18/32\n",
      "409/409 [==============================] - 2s 4ms/step - loss: 6715162624.0000 - mse: 6715162624.0000 - val_loss: 6769152000.0000 - val_mse: 6769152000.0000\n",
      "Epoch 19/32\n",
      "409/409 [==============================] - 2s 4ms/step - loss: 6712236032.0000 - mse: 6712236032.0000 - val_loss: 6407924224.0000 - val_mse: 6407924224.0000\n",
      "Epoch 20/32\n",
      "409/409 [==============================] - 2s 4ms/step - loss: 6500932608.0000 - mse: 6500932608.0000 - val_loss: 6409053184.0000 - val_mse: 6409053184.0000\n",
      "Epoch 21/32\n",
      "409/409 [==============================] - 2s 6ms/step - loss: 6255128064.0000 - mse: 6255128064.0000 - val_loss: 6160629760.0000 - val_mse: 6160629760.0000\n",
      "Epoch 22/32\n",
      "409/409 [==============================] - 2s 5ms/step - loss: 6089889280.0000 - mse: 6089889280.0000 - val_loss: 6106820096.0000 - val_mse: 6106820096.0000\n",
      "Epoch 23/32\n",
      "409/409 [==============================] - 2s 4ms/step - loss: 6059169280.0000 - mse: 6059169280.0000 - val_loss: 5902535680.0000 - val_mse: 5902535680.0000\n",
      "Epoch 24/32\n",
      "409/409 [==============================] - 2s 6ms/step - loss: 5818383872.0000 - mse: 5818383872.0000 - val_loss: 5645586432.0000 - val_mse: 5645586432.0000\n",
      "Epoch 25/32\n",
      "409/409 [==============================] - 2s 4ms/step - loss: 5795105792.0000 - mse: 5795105792.0000 - val_loss: 5666555904.0000 - val_mse: 5666555904.0000\n",
      "Epoch 26/32\n",
      "409/409 [==============================] - 2s 4ms/step - loss: 5642129408.0000 - mse: 5642129408.0000 - val_loss: 5385292800.0000 - val_mse: 5385292800.0000\n",
      "Epoch 27/32\n",
      "409/409 [==============================] - 1s 3ms/step - loss: 5561025536.0000 - mse: 5561025536.0000 - val_loss: 5352925184.0000 - val_mse: 5352925184.0000\n",
      "Epoch 28/32\n",
      "409/409 [==============================] - 1s 3ms/step - loss: 5438358016.0000 - mse: 5438358016.0000 - val_loss: 5632529408.0000 - val_mse: 5632529408.0000\n",
      "Epoch 29/32\n",
      "409/409 [==============================] - 1s 4ms/step - loss: 5392105472.0000 - mse: 5392105472.0000 - val_loss: 6083639296.0000 - val_mse: 6083639296.0000\n",
      "Epoch 30/32\n",
      "409/409 [==============================] - 1s 3ms/step - loss: 5360858112.0000 - mse: 5360858112.0000 - val_loss: 5492102656.0000 - val_mse: 5492102656.0000\n",
      "Epoch 31/32\n",
      "409/409 [==============================] - 1s 3ms/step - loss: 5313410048.0000 - mse: 5313410048.0000 - val_loss: 5439704576.0000 - val_mse: 5439704576.0000\n",
      "Epoch 32/32\n",
      "409/409 [==============================] - 1s 3ms/step - loss: 5319646208.0000 - mse: 5319646208.0000 - val_loss: 5172429312.0000 - val_mse: 5172429312.0000\n"
     ]
    }
   ],
   "source": [
    "# Model create\n",
    "\n",
    "feature_layer = tf.keras.layers.DenseFeatures(feature_columns, dtype='float64')\n",
    "\n",
    "model = tf.keras.Sequential([\n",
    "  feature_layer,\n",
    "  layers.Dense(12, input_dim=8, activation='relu'),\n",
    "  layers.Dense(8, activation='relu'),\n",
    "  layers.Dense(1, activation='linear',  name='median_house_value')\n",
    "])\n",
    "\n",
    "# Model compile\n",
    " #TODO 2c\n",
    "opt = keras.optimizers.Adam(learning_rate=0.01)\n",
    "model.compile(optimizer=opt,\n",
    "              loss='mse',\n",
    "              metrics=['mse'])\n",
    "\n",
    "# Model Fit\n",
    "# Using the `fit()` method we can train our model\n",
    "history = model.fit(train_ds,\n",
    "                    validation_data=val_ds,\n",
    "                    epochs=32)  # Increase Epochs to 32"
   ]
  },
  {
   "cell_type": "code",
   "execution_count": 14,
   "metadata": {},
   "outputs": [
    {
     "data": {
      "image/png": "[encoded data removed]",
      "text/plain": [
       "<Figure size 720x360 with 2 Axes>"
      ]
     },
     "metadata": {
      "needs_background": "light"
     },
     "output_type": "display_data"
    }
   ],
   "source": [
    "def plot_curves(history, metrics):\n",
    "    nrows = 1\n",
    "    ncols = 2\n",
    "# Using the `figure()` method we can create a new figure or activate an existing figure.\n",
    "    fig = plt.figure(figsize=(10, 5))\n",
    "\n",
    "    for idx, key in enumerate(metrics):  \n",
    "# Using the `add_subplot()` method we can add a subplot to the current figure.\n",
    "        ax = fig.add_subplot(nrows, ncols, idx+1)\n",
    "# The `plot()` is a versatile function and will take an arbitrary number of arguments. \n",
    "        plt.plot(history.history[key])\n",
    "        plt.plot(history.history['val_{}'.format(key)])\n",
    "        plt.title('model {}'.format(key))\n",
    "        plt.ylabel(key)\n",
    "        plt.xlabel('epoch')\n",
    "# Using the `legend()` method we can place a legend on the axes.\n",
    "        plt.legend(['train', 'validation'], loc='upper left');  \n",
    "plot_curves(history, ['loss', 'mse'])"
   ]
  },
  {
   "cell_type": "markdown",
   "metadata": {},
   "source": [
    "## Model 4 - hard cording the learning rate to .001 "
   ]
  },
  {
   "cell_type": "code",
   "execution_count": 15,
   "metadata": {},
   "outputs": [
    {
     "name": "stdout",
     "output_type": "stream",
     "text": [
      "Epoch 1/32\n",
      "WARNING:tensorflow:Layers in a Sequential model should only have a single input tensor, but we receive a <class 'dict'> input: {'longitude': <tf.Tensor 'ExpandDims_3:0' shape=(None, 1) dtype=float64>, 'latitude': <tf.Tensor 'ExpandDims_2:0' shape=(None, 1) dtype=float64>, 'housing_median_age': <tf.Tensor 'ExpandDims_1:0' shape=(None, 1) dtype=float64>, 'total_rooms': <tf.Tensor 'ExpandDims_8:0' shape=(None, 1) dtype=float64>, 'total_bedrooms': <tf.Tensor 'ExpandDims_7:0' shape=(None, 1) dtype=float64>, 'population': <tf.Tensor 'ExpandDims_6:0' shape=(None, 1) dtype=float64>, 'households': <tf.Tensor 'ExpandDims:0' shape=(None, 1) dtype=float64>, 'median_income': <tf.Tensor 'ExpandDims_4:0' shape=(None, 1) dtype=float64>, 'ocean_proximity': <tf.Tensor 'ExpandDims_5:0' shape=(None, 1) dtype=string>}\n",
      "Consider rewriting this model with the Functional API.\n",
      "WARNING:tensorflow:Layers in a Sequential model should only have a single input tensor, but we receive a <class 'dict'> input: {'longitude': <tf.Tensor 'ExpandDims_3:0' shape=(None, 1) dtype=float64>, 'latitude': <tf.Tensor 'ExpandDims_2:0' shape=(None, 1) dtype=float64>, 'housing_median_age': <tf.Tensor 'ExpandDims_1:0' shape=(None, 1) dtype=float64>, 'total_rooms': <tf.Tensor 'ExpandDims_8:0' shape=(None, 1) dtype=float64>, 'total_bedrooms': <tf.Tensor 'ExpandDims_7:0' shape=(None, 1) dtype=float64>, 'population': <tf.Tensor 'ExpandDims_6:0' shape=(None, 1) dtype=float64>, 'households': <tf.Tensor 'ExpandDims:0' shape=(None, 1) dtype=float64>, 'median_income': <tf.Tensor 'ExpandDims_4:0' shape=(None, 1) dtype=float64>, 'ocean_proximity': <tf.Tensor 'ExpandDims_5:0' shape=(None, 1) dtype=string>}\n",
      "Consider rewriting this model with the Functional API.\n",
      "388/409 [===========================>..] - ETA: 0s - loss: 50311319552.0000 - mse: 50311319552.0000WARNING:tensorflow:Layers in a Sequential model should only have a single input tensor, but we receive a <class 'dict'> input: {'longitude': <tf.Tensor 'ExpandDims_3:0' shape=(None, 1) dtype=float64>, 'latitude': <tf.Tensor 'ExpandDims_2:0' shape=(None, 1) dtype=float64>, 'housing_median_age': <tf.Tensor 'ExpandDims_1:0' shape=(None, 1) dtype=float64>, 'total_rooms': <tf.Tensor 'ExpandDims_8:0' shape=(None, 1) dtype=float64>, 'total_bedrooms': <tf.Tensor 'ExpandDims_7:0' shape=(None, 1) dtype=float64>, 'population': <tf.Tensor 'ExpandDims_6:0' shape=(None, 1) dtype=float64>, 'households': <tf.Tensor 'ExpandDims:0' shape=(None, 1) dtype=float64>, 'median_income': <tf.Tensor 'ExpandDims_4:0' shape=(None, 1) dtype=float64>, 'ocean_proximity': <tf.Tensor 'ExpandDims_5:0' shape=(None, 1) dtype=string>}\n",
      "Consider rewriting this model with the Functional API.\n",
      "409/409 [==============================] - 1s 4ms/step - loss: 49514307584.0000 - mse: 49514307584.0000 - val_loss: 35263172608.0000 - val_mse: 35263172608.0000\n",
      "Epoch 2/32\n",
      "409/409 [==============================] - 1s 4ms/step - loss: 27575095296.0000 - mse: 27575095296.0000 - val_loss: 26293899264.0000 - val_mse: 26293899264.0000\n",
      "Epoch 3/32\n",
      "409/409 [==============================] - 1s 3ms/step - loss: 25946411008.0000 - mse: 25946411008.0000 - val_loss: 25722079232.0000 - val_mse: 25722079232.0000\n",
      "Epoch 4/32\n",
      "409/409 [==============================] - 2s 4ms/step - loss: 25326454784.0000 - mse: 25326454784.0000 - val_loss: 24955983872.0000 - val_mse: 24955983872.0000\n",
      "Epoch 5/32\n",
      "409/409 [==============================] - 1s 3ms/step - loss: 24471820288.0000 - mse: 24471820288.0000 - val_loss: 24035901440.0000 - val_mse: 24035901440.0000\n",
      "Epoch 6/32\n",
      "409/409 [==============================] - 2s 5ms/step - loss: 23438888960.0000 - mse: 23438888960.0000 - val_loss: 22820485120.0000 - val_mse: 22820485120.0000\n",
      "Epoch 7/32\n",
      "409/409 [==============================] - 1s 4ms/step - loss: 22161911808.0000 - mse: 22161911808.0000 - val_loss: 21454630912.0000 - val_mse: 21454630912.0000\n",
      "Epoch 8/32\n",
      "409/409 [==============================] - 2s 4ms/step - loss: 20706086912.0000 - mse: 20706086912.0000 - val_loss: 19843026944.0000 - val_mse: 19843026944.0000\n",
      "Epoch 9/32\n",
      "409/409 [==============================] - 1s 3ms/step - loss: 19084308480.0000 - mse: 19084308480.0000 - val_loss: 18143483904.0000 - val_mse: 18143483904.0000\n",
      "Epoch 10/32\n",
      "409/409 [==============================] - 1s 4ms/step - loss: 17325303808.0000 - mse: 17325303808.0000 - val_loss: 16274586624.0000 - val_mse: 16274586624.0000\n",
      "Epoch 11/32\n",
      "409/409 [==============================] - 1s 3ms/step - loss: 15579935744.0000 - mse: 15579935744.0000 - val_loss: 14503948288.0000 - val_mse: 14503948288.0000\n",
      "Epoch 12/32\n",
      "409/409 [==============================] - 1s 3ms/step - loss: 13939950592.0000 - mse: 13939950592.0000 - val_loss: 12957976576.0000 - val_mse: 12957976576.0000\n",
      "Epoch 13/32\n",
      "409/409 [==============================] - 2s 4ms/step - loss: 12662074368.0000 - mse: 12662074368.0000 - val_loss: 11902024704.0000 - val_mse: 11902024704.0000\n",
      "Epoch 14/32\n",
      "409/409 [==============================] - 2s 4ms/step - loss: 11876054016.0000 - mse: 11876054016.0000 - val_loss: 11277989888.0000 - val_mse: 11277989888.0000\n",
      "Epoch 15/32\n",
      "409/409 [==============================] - 2s 4ms/step - loss: 11479273472.0000 - mse: 11479273472.0000 - val_loss: 11070118912.0000 - val_mse: 11070118912.0000\n",
      "Epoch 16/32\n",
      "409/409 [==============================] - 1s 3ms/step - loss: 11322065920.0000 - mse: 11322065920.0000 - val_loss: 10904772608.0000 - val_mse: 10904772608.0000\n",
      "Epoch 17/32\n",
      "409/409 [==============================] - 2s 5ms/step - loss: 11247255552.0000 - mse: 11247255552.0000 - val_loss: 10825472000.0000 - val_mse: 10825472000.0000\n",
      "Epoch 18/32\n",
      "409/409 [==============================] - 1s 3ms/step - loss: 11184871424.0000 - mse: 11184871424.0000 - val_loss: 10780923904.0000 - val_mse: 10780923904.0000\n",
      "Epoch 19/32\n",
      "409/409 [==============================] - 2s 4ms/step - loss: 11145200640.0000 - mse: 11145200640.0000 - val_loss: 10735869952.0000 - val_mse: 10735869952.0000\n",
      "Epoch 20/32\n",
      "409/409 [==============================] - 1s 3ms/step - loss: 11093679104.0000 - mse: 11093679104.0000 - val_loss: 10666488832.0000 - val_mse: 10666488832.0000\n",
      "Epoch 21/32\n",
      "409/409 [==============================] - 1s 3ms/step - loss: 11029757952.0000 - mse: 11029757952.0000 - val_loss: 10621939712.0000 - val_mse: 10621939712.0000\n",
      "Epoch 22/32\n",
      "409/409 [==============================] - 2s 5ms/step - loss: 10986668032.0000 - mse: 10986668032.0000 - val_loss: 10575940608.0000 - val_mse: 10575940608.0000\n",
      "Epoch 23/32\n",
      "409/409 [==============================] - 2s 4ms/step - loss: 10921590784.0000 - mse: 10921590784.0000 - val_loss: 10547210240.0000 - val_mse: 10547210240.0000\n",
      "Epoch 24/32\n",
      "409/409 [==============================] - 2s 4ms/step - loss: 10877842432.0000 - mse: 10877842432.0000 - val_loss: 10460780544.0000 - val_mse: 10460780544.0000\n",
      "Epoch 25/32\n",
      "409/409 [==============================] - 1s 4ms/step - loss: 10813008896.0000 - mse: 10813008896.0000 - val_loss: 10408009728.0000 - val_mse: 10408009728.0000\n",
      "Epoch 26/32\n",
      "409/409 [==============================] - 1s 3ms/step - loss: 10749540352.0000 - mse: 10749540352.0000 - val_loss: 10376698880.0000 - val_mse: 10376698880.0000\n",
      "Epoch 27/32\n",
      "409/409 [==============================] - 1s 4ms/step - loss: 10700160000.0000 - mse: 10700160000.0000 - val_loss: 10308507648.0000 - val_mse: 10308507648.0000\n",
      "Epoch 28/32\n",
      "409/409 [==============================] - 1s 3ms/step - loss: 10631245824.0000 - mse: 10631245824.0000 - val_loss: 10238640128.0000 - val_mse: 10238640128.0000\n",
      "Epoch 29/32\n",
      "409/409 [==============================] - 2s 5ms/step - loss: 10570447872.0000 - mse: 10570447872.0000 - val_loss: 10195513344.0000 - val_mse: 10195513344.0000\n",
      "Epoch 30/32\n",
      "409/409 [==============================] - 2s 4ms/step - loss: 10515289088.0000 - mse: 10515289088.0000 - val_loss: 10137232384.0000 - val_mse: 10137232384.0000\n",
      "Epoch 31/32\n",
      "409/409 [==============================] - 2s 5ms/step - loss: 10450167808.0000 - mse: 10450167808.0000 - val_loss: 10067183616.0000 - val_mse: 10067183616.0000\n",
      "Epoch 32/32\n",
      "409/409 [==============================] - 1s 3ms/step - loss: 10395081728.0000 - mse: 10395081728.0000 - val_loss: 10091849728.0000 - val_mse: 10091849728.0000\n"
     ]
    }
   ],
   "source": [
    "# Model create\n",
    "\n",
    "feature_layer = tf.keras.layers.DenseFeatures(feature_columns, dtype='float64')\n",
    "\n",
    "model = tf.keras.Sequential([\n",
    "  feature_layer,\n",
    "  layers.Dense(12, input_dim=8, activation='relu'),\n",
    "  layers.Dense(8, activation='relu'),\n",
    "  layers.Dense(1, activation='linear',  name='median_house_value')\n",
    "])\n",
    "\n",
    "# Model compile\n",
    " #TODO 2d\n",
    "opt = keras.optimizers.Adam(learning_rate=0.001)\n",
    "model.compile(optimizer=opt,\n",
    "              loss='mse',\n",
    "              metrics=['mse'])\n",
    "\n",
    "# Model Fit\n",
    "# Using the `fit()` method we can train our model\n",
    "history = model.fit(train_ds,\n",
    "                    validation_data=val_ds,\n",
    "                    epochs=32)  # Increase Epochs to 32"
   ]
  },
  {
   "cell_type": "code",
   "execution_count": 16,
   "metadata": {},
   "outputs": [
    {
     "data": {
      "image/png": "[encoded data removed]",
      "text/plain": [
       "<Figure size 720x360 with 2 Axes>"
      ]
     },
     "metadata": {
      "needs_background": "light"
     },
     "output_type": "display_data"
    }
   ],
   "source": [
    " #TODO 3\n",
    "def plot_curves(history, metrics):\n",
    "    nrows = 1\n",
    "    ncols = 2\n",
    "# Using the `figure()` method we can create a new figure or activate an existing figure.\n",
    "    fig = plt.figure(figsize=(10, 5))\n",
    "\n",
    "    for idx, key in enumerate(metrics):  \n",
    "# Using the `add_subplot()` method we can add a subplot to the current figure.\n",
    "        ax = fig.add_subplot(nrows, ncols, idx+1)\n",
    "# The `plot()` is a versatile function and will take an arbitrary number of arguments. \n",
    "        plt.plot(history.history[key])\n",
    "        plt.plot(history.history['val_{}'.format(key)])\n",
    "        plt.title('model {}'.format(key))\n",
    "        plt.ylabel(key)\n",
    "        plt.xlabel('epoch')\n",
    "# Using the `legend()` method we can place a legend on the axes.\n",
    "        plt.legend(['train', 'validation'], loc='upper left');  \n",
    "        \n",
    "plot_curves(history, ['loss', 'mse'])"
   ]
  },
  {
   "cell_type": "markdown",
   "metadata": {},
   "source": [
    "Copyright 2020 Google Inc.\n",
    "Licensed under the Apache License, Version 2.0 (the \"License\"); you may not use this file except in compliance with the License. You may obtain a copy of the License at\n",
    "http://www.apache.org/licenses/LICENSE-2.0\n",
    "Unless required by applicable law or agreed to in writing, software distributed under the License is distributed on an \"AS IS\" BASIS, WITHOUT WARRANTIES OR CONDITIONS OF ANY KIND, either express or implied. See the License for the specific language governing permissions and limitations under the License."
   ]
  }
 ],
 "metadata": {
  "colab": {
   "collapsed_sections": [],
   "name": "learning_rate.ipynb",
   "provenance": [],
   "toc_visible": true
  },
  "environment": {
   "kernel": "python3",
   "name": "tf2-gpu.2-3.m87",
   "type": "gcloud",
   "uri": "gcr.io/deeplearning-platform-release/tf2-gpu.2-3:m87"
  },
  "kernelspec": {
   "display_name": "Python 3",
   "language": "python",
   "name": "python3"
  },
  "language_info": {
   "codemirror_mode": {
    "name": "ipython",
    "version": 3
   },
   "file_extension": ".py",
   "mimetype": "text/x-python",
   "name": "python",
   "nbconvert_exporter": "python",
   "pygments_lexer": "ipython3",
   "version": "3.7.12"
  }
 },
 "nbformat": 4,
 "nbformat_minor": 4
}
