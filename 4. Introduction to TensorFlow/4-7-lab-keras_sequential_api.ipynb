{
 "cells": [
  {
   "cell_type": "markdown",
   "metadata": {},
   "source": [
    "# Introducing the Keras Sequential API\n",
    "\n",
    "**Learning Objectives**\n",
    "  1. Build a DNN model using the Keras Sequential API\n",
    "  1. Learn how to use feature columns in a Keras model\n",
    "  1. Learn how to train a model with Keras\n",
    "  1. Learn how to save/load, and deploy a Keras model on GCP\n",
    "  1. Learn how to deploy and make predictions with at Keras model\n",
    "\n",
    "## Introduction\n",
    "\n",
    "The [Keras sequential API](https://keras.io/models/sequential/) allows you to create Tensorflow models layer-by-layer. This is useful for building most kinds of machine learning models but it does not allow you to create models that share layers, re-use layers or have multiple inputs or outputs. \n",
    "\n",
    "In this lab, we'll see how to build a simple deep neural network model using the Keras sequential api and feature columns. Once we have trained our model, we will deploy it using AI Platform and see how to call our model for online prediciton.\n",
    "\n",
    "Each learning objective will correspond to a __#TODO__ in the [student lab notebook](https://github.com/GoogleCloudPlatform/training-data-analyst/blob/master/courses/machine_learning/deepdive2/introduction_to_tensorflow/labs/3_keras_sequential_api.ipynb) -- try to complete that notebook first before reviewing this solution notebook.\n"
   ]
  },
  {
   "cell_type": "code",
   "execution_count": null,
   "metadata": {},
   "outputs": [],
   "source": [
    "# Use the chown command to change the ownership of repository to user\n",
    "!sudo chown -R jupyter:jupyter /home/jupyter/training-data-analyst"
   ]
  },
  {
   "cell_type": "code",
   "execution_count": null,
   "metadata": {},
   "outputs": [
    {
     "name": "stdout",
     "output_type": "stream",
     "text": [
      "2.6.2\n"
     ]
    }
   ],
   "source": [
    "# The datetime module used to work with dates as date objects.\n",
    "import datetime\n",
    "# The OS module in python provides functions for interacting with the operating system.\n",
    "import os\n",
    "# The shutil module in Python provides many functions of high-level operations on files and collections of files.\n",
    "# This module helps in automating process of copying and removal of files and directories.\n",
    "import shutil\n",
    "\n",
    "# Here we'll import data processing libraries like Numpy, Pandas and Tensorflow\n",
    "import numpy as np\n",
    "import pandas as pd\n",
    "import tensorflow as tf\n",
    "\n",
    "# Import pyplot package from matplotlib library\n",
    "from matplotlib import pyplot as plt\n",
    "# Import keras package from tensorflow library\n",
    "from tensorflow import keras\n",
    "\n",
    "# Import Sequential function from tensorflow.keras.models\n",
    "from tensorflow.keras.models import Sequential\n",
    "# Import Dense, DenseFeatures function from tensorflow.keras.layers\n",
    "from tensorflow.keras.layers import Dense, DenseFeatures\n",
    "# Import TensorBoard function from tensorflow.keras.callbacks\n",
    "from tensorflow.keras.callbacks import TensorBoard\n",
    "\n",
    "# Here we'll show the currently installed version of TensorFlow\n",
    "print(tf.__version__)\n",
    "%matplotlib inline"
   ]
  },
  {
   "cell_type": "markdown",
   "metadata": {},
   "source": [
    "## Load raw data \n",
    "\n",
    "We will use the taxifare dataset, using the CSV files that we created in the first notebook of this sequence. Those files have been saved into `../data`."
   ]
  },
  {
   "cell_type": "code",
   "execution_count": null,
   "metadata": {},
   "outputs": [
    {
     "name": "stdout",
     "output_type": "stream",
     "text": [
      "-rw-r--r-- 1 jupyter jupyter 123590 Dec 27 15:31 ../data/taxi-test.csv\n",
      "-rw-r--r-- 1 jupyter jupyter 579055 Dec 27 15:31 ../data/taxi-train.csv\n",
      "-rw-r--r-- 1 jupyter jupyter 123114 Dec 27 15:31 ../data/taxi-valid.csv\n"
     ]
    }
   ],
   "source": [
    "# ls shows the working directory's contents.\n",
    "# Using -l parameter will lists the files with assigned permissions\n",
    "!ls -l ../data/*.csv"
   ]
  },
  {
   "cell_type": "code",
   "execution_count": null,
   "metadata": {},
   "outputs": [
    {
     "name": "stdout",
     "output_type": "stream",
     "text": [
      "==> ../data/taxi-test.csv <==\n",
      "6.0,2013-03-27 03:35:00 UTC,-73.977672,40.784052,-73.965332,40.801025,2,0\n",
      "19.3,2012-05-10 18:43:16 UTC,-73.954366,40.778924,-74.004094,40.723104,1,1\n",
      "7.5,2014-05-20 23:09:00 UTC,-73.999165,40.738377,-74.003473,40.723862,2,2\n",
      "12.5,2015-02-23 19:51:31 UTC,-73.9652099609375,40.76948165893555,-73.98949432373047,40.739742279052734,1,3\n",
      "10.9,2011-03-19 03:32:00 UTC,-73.99259,40.742957,-73.989908,40.711053,1,4\n",
      "7.0,2012-09-18 12:51:11 UTC,-73.971195,40.751566,-73.975922,40.756361,1,5\n",
      "19.0,2014-05-20 23:09:00 UTC,-73.998392,40.74517,-73.939845,40.74908,1,6\n",
      "8.9,2012-07-18 08:46:08 UTC,-73.997638,40.756541,-73.973303,40.762019,1,7\n",
      "4.5,2010-07-11 20:39:08 UTC,-73.976738,40.751321,-73.986671,40.74883,1,8\n",
      "7.0,2013-12-12 02:16:40 UTC,-73.985024,40.767537,-73.981273,40.779302,1,9\n",
      "\n",
      "==> ../data/taxi-train.csv <==\n",
      "11.3,2011-01-28 20:42:59 UTC,-73.999022,40.739146,-73.990369,40.717866,1,0\n",
      "7.7,2011-06-27 04:28:06 UTC,-73.987443,40.729221,-73.979013,40.758641,1,1\n",
      "10.5,2011-04-03 00:54:53 UTC,-73.982539,40.735725,-73.954797,40.778388,1,2\n",
      "16.2,2009-04-10 04:11:56 UTC,-74.001945,40.740505,-73.91385,40.758559,1,3\n",
      "33.5,2014-02-24 18:22:00 UTC,-73.993372,40.753382,-73.8609,40.732897,2,4\n",
      "6.9,2011-12-10 00:25:23 UTC,-73.996237,40.721848,-73.989416,40.718052,1,5\n",
      "6.1,2012-09-01 14:30:19 UTC,-73.977048,40.758461,-73.984899,40.744693,2,6\n",
      "9.5,2012-11-08 13:28:07 UTC,-73.969402,40.757545,-73.950049,40.776079,1,7\n",
      "9.0,2014-07-15 11:37:25 UTC,-73.979318,40.760949,-73.95767,40.773724,1,8\n",
      "3.3,2009-11-09 18:06:58 UTC,-73.955675,40.779154,-73.961172,40.772368,1,9\n",
      "\n",
      "==> ../data/taxi-valid.csv <==\n",
      "5.3,2012-01-03 19:21:35 UTC,-73.962627,40.763214,-73.973485,40.753353,1,0\n",
      "25.3,2010-09-27 07:30:15 UTC,-73.965799,40.794243,-73.927134,40.852261,3,1\n",
      "27.5,2015-05-19 00:40:02 UTC,-73.86344146728516,40.76899719238281,-73.96058654785156,40.76129913330078,1,2\n",
      "5.7,2010-04-29 12:28:00 UTC,-73.989255,40.738912,-73.97558,40.749172,1,3\n",
      "11.5,2013-06-23 06:08:09 UTC,-73.99731,40.763735,-73.955657,40.768141,1,4\n",
      "18.0,2014-10-14 18:52:03 UTC,-73.997995,40.761638,-74.008985,40.712442,1,5\n",
      "4.9,2010-04-29 12:28:00 UTC,-73.977315,40.766182,-73.970845,40.761462,5,6\n",
      "32.33,2014-02-24 18:22:00 UTC,-73.985358,40.761352,-73.92427,40.699145,1,7\n",
      "17.0,2015-03-26 02:48:58 UTC,-73.93981170654297,40.846473693847656,-73.97361755371094,40.786983489990234,1,8\n",
      "12.5,2013-04-09 09:39:13 UTC,-73.977323,40.753934,-74.00719,40.741472,1,9\n"
     ]
    }
   ],
   "source": [
    "# Output the first ten rows from the file where name having prefix `taxi`.\n",
    "!head ../data/taxi*.csv"
   ]
  },
  {
   "cell_type": "markdown",
   "metadata": {},
   "source": [
    "## Use tf.data to read the CSV files\n",
    "\n",
    "We wrote these functions for reading data from the csv files above in the [previous notebook](https://github.com/GoogleCloudPlatform/training-data-analyst/blob/master/courses/machine_learning/deepdive2/introduction_to_tensorflow/labs/2_dataset_api.ipynb)."
   ]
  },
  {
   "cell_type": "code",
   "execution_count": null,
   "metadata": {},
   "outputs": [],
   "source": [
    "# Defining the feature names into a list `CSV_COLUMNS`\n",
    "CSV_COLUMNS = [\n",
    "    'fare_amount',\n",
    "    'pickup_datetime',\n",
    "    'pickup_longitude',\n",
    "    'pickup_latitude',\n",
    "    'dropoff_longitude',\n",
    "    'dropoff_latitude',\n",
    "    'passenger_count',\n",
    "    'key'\n",
    "]\n",
    "LABEL_COLUMN = 'fare_amount'\n",
    "# Defining the default values into a list `DEFAULTS`\n",
    "DEFAULTS = [[0.0], ['na'], [0.0], [0.0], [0.0], [0.0], [0.0], ['na']]\n",
    "UNWANTED_COLS = ['pickup_datetime', 'key']\n",
    "\n",
    "\n",
    "def features_and_labels(row_data):\n",
    "# The .pop() method will return item and drop from frame. \n",
    "    label = row_data.pop(LABEL_COLUMN)\n",
    "    features = row_data\n",
    "    \n",
    "    for unwanted_col in UNWANTED_COLS:\n",
    "        features.pop(unwanted_col)\n",
    "\n",
    "    return features, label\n",
    "\n",
    "\n",
    "def create_dataset(pattern, batch_size=1, mode='eval'):\n",
    "# The tf.data.experimental.make_csv_dataset() method reads CSV files into a dataset\n",
    "    dataset = tf.data.experimental.make_csv_dataset(\n",
    "        pattern, batch_size, CSV_COLUMNS, DEFAULTS)\n",
    "\n",
    "# The map() function executes a specified function for each item in an iterable.\n",
    "# The item is sent to the function as a parameter.\n",
    "    dataset = dataset.map(features_and_labels)\n",
    "\n",
    "    if mode == 'train':\n",
    "# The shuffle() method takes a sequence (list, string, or tuple) and reorganize the order of the items.\n",
    "        dataset = dataset.shuffle(buffer_size=1000).repeat()\n",
    "\n",
    "    # take advantage of multi-threading; 1=AUTOTUNE\n",
    "    dataset = dataset.prefetch(1)\n",
    "    return dataset"
   ]
  },
  {
   "cell_type": "markdown",
   "metadata": {},
   "source": [
    "## Build a simple keras DNN model\n",
    "\n",
    "We will use feature columns to connect our raw data to our keras DNN model. Feature columns make it easy to perform common types of feature engineering on your raw data. For example, you can one-hot encode categorical data, create feature crosses, embeddings and more. We'll cover these in more detail later in the course, but if you want to a sneak peak browse the official TensorFlow [feature columns guide](https://www.tensorflow.org/guide/feature_columns).\n",
    "\n",
    "In our case we won't do any feature engineering. However, we still need to create a list of feature columns to specify the numeric values which will be passed on to our model. To do this, we use `tf.feature_column.numeric_column()`\n",
    "\n",
    "We use a python dictionary comprehension to create the feature columns for our model, which is just an elegant alternative to a for loop."
   ]
  },
  {
   "cell_type": "code",
   "execution_count": null,
   "metadata": {},
   "outputs": [],
   "source": [
    "# Defining the feature names into a list `INPUT_COLS`\n",
    "INPUT_COLS = [\n",
    "    'pickup_longitude',\n",
    "    'pickup_latitude',\n",
    "    'dropoff_longitude',\n",
    "    'dropoff_latitude',\n",
    "    'passenger_count',\n",
    "]\n",
    "\n",
    "# Create input layer of feature columns\n",
    "# TODO 1\n",
    "feature_columns = {\n",
    "    colname: tf.feature_column.numeric_column(colname)\n",
    "    for colname in INPUT_COLS\n",
    "    }"
   ]
  },
  {
   "cell_type": "markdown",
   "metadata": {},
   "source": [
    "Next, we create the DNN model. The Sequential model is a linear stack of layers and when building a model using the Sequential API, you configure each layer of the model in turn. Once all the layers have been added, you compile the model. "
   ]
  },
  {
   "cell_type": "code",
   "execution_count": null,
   "metadata": {},
   "outputs": [
    {
     "name": "stderr",
     "output_type": "stream",
     "text": [
      "2021-12-27 15:32:35.801719: I tensorflow/core/common_runtime/process_util.cc:146] Creating new thread pool with default inter op setting: 2. Tune using inter_op_parallelism_threads for best performance.\n"
     ]
    }
   ],
   "source": [
    "# Build a keras DNN model using Sequential API\n",
    "# TODO 2a\n",
    "model = Sequential([\n",
    "    DenseFeatures(feature_columns=feature_columns.values()),\n",
    "    Dense(units=32, activation=\"relu\", name=\"h1\"),\n",
    "    Dense(units=8, activation=\"relu\", name=\"h2\"),\n",
    "    Dense(units=1, activation=\"linear\", name=\"output\")\n",
    "    ])"
   ]
  },
  {
   "cell_type": "markdown",
   "metadata": {},
   "source": [
    "Next, to prepare the model for training, you must configure the learning process. This is done using the compile method. The compile method takes three arguments:\n",
    "\n",
    "* An optimizer. This could be the string identifier of an existing optimizer (such as `rmsprop` or `adagrad`), or an instance of the [Optimizer class](https://www.tensorflow.org/versions/r2.0/api_docs/python/tf/keras/optimizers).\n",
    "* A loss function. This is the objective that the model will try to minimize. It can be the string identifier of an existing loss function from the [Losses class](https://www.tensorflow.org/versions/r2.0/api_docs/python/tf/keras/losses) (such as categorical_crossentropy or mse), or it can be a custom objective function.\n",
    "* A list of metrics. For any machine learning problem you will want a set of metrics to evaluate your model. A metric could be the string identifier of an existing metric or a custom metric function.\n",
    "\n",
    "We will add an additional custom metric called `rmse` to our list of metrics which will return the root mean square error. "
   ]
  },
  {
   "cell_type": "code",
   "execution_count": null,
   "metadata": {},
   "outputs": [],
   "source": [
    "# TODO 2b\n",
    "# Create a custom evalution metric\n",
    "def rmse(y_true, y_pred):\n",
    "    return tf.sqrt(tf.reduce_mean(tf.square(y_pred - y_true)))\n",
    "\n",
    "\n",
    "# Compile the keras model\n",
    "model.compile(optimizer=\"adam\", loss=\"mse\", metrics=[rmse, \"mse\"])"
   ]
  },
  {
   "cell_type": "markdown",
   "metadata": {},
   "source": [
    "## Train the model\n",
    "\n",
    "To train your model, Keras provides three functions that can be used:\n",
    " 1. `.fit()` for training a model for a fixed number of epochs (iterations on a dataset).\n",
    " 2. `.fit_generator()` for training a model on data yielded batch-by-batch by a generator\n",
    " 3. `.train_on_batch()` runs a single gradient update on a single batch of data. \n",
    " \n",
    "The `.fit()` function works well for small datasets which can fit entirely in memory. However, for large datasets (or if you need to manipulate the training data on the fly via data augmentation, etc) you will need to use `.fit_generator()` instead. The `.train_on_batch()` method is for more fine-grained control over training and accepts only a single batch of data.\n",
    "\n",
    "The taxifare dataset we sampled is small enough to fit in memory, so can we could use `.fit` to train our model. Our `create_dataset` function above generates batches of training examples, so we could also use `.fit_generator`. In fact, when calling `.fit` the method inspects the data, and if it's a generator (as our dataset is) it will invoke automatically `.fit_generator` for training. \n",
    "\n",
    "We start by setting up some parameters for our training job and create the data generators for the training and validation data.\n",
    "\n",
    "We refer you the the blog post [ML Design Pattern #3: Virtual Epochs](https://medium.com/google-cloud/ml-design-pattern-3-virtual-epochs-f842296de730) for further details on why express the training in terms of `NUM_TRAIN_EXAMPLES` and `NUM_EVALS` and why, in this training code, the number of epochs is really equal to the number of evaluations we perform."
   ]
  },
  {
   "cell_type": "code",
   "execution_count": null,
   "metadata": {},
   "outputs": [],
   "source": [
    "TRAIN_BATCH_SIZE = 1000\n",
    "NUM_TRAIN_EXAMPLES = 10000 * 5  # training dataset will repeat, wrap around\n",
    "NUM_EVALS = 50  # how many times to evaluate\n",
    "NUM_EVAL_EXAMPLES = 10000  # enough to get a reasonable sample\n",
    "\n",
    "trainds = create_dataset(\n",
    "    pattern='../data/taxi-train*',\n",
    "    batch_size=TRAIN_BATCH_SIZE,\n",
    "    mode='train')\n",
    "\n",
    "evalds = create_dataset(\n",
    "    pattern='../data/taxi-valid*',\n",
    "    batch_size=1000,\n",
    "    mode='eval').take(NUM_EVAL_EXAMPLES//1000)"
   ]
  },
  {
   "cell_type": "markdown",
   "metadata": {},
   "source": [
    "There are various arguments you can set when calling the [.fit method](https://www.tensorflow.org/versions/r2.0/api_docs/python/tf/keras/Model#fit). Here `x` specifies the input data which in our case is a `tf.data` dataset returning a tuple of (inputs, targets). The `steps_per_epoch` parameter is used to mark the end of training for a single epoch. Here we are training for NUM_EVALS epochs. Lastly, for the `callback` argument we specify a Tensorboard callback so we can inspect Tensorboard after training. "
   ]
  },
  {
   "cell_type": "code",
   "execution_count": null,
   "metadata": {},
   "outputs": [
    {
     "name": "stdout",
     "output_type": "stream",
     "text": [
      "CPU times: user 2 µs, sys: 1 µs, total: 3 µs\n",
      "Wall time: 6.68 µs\n",
      "Epoch 1/50\n",
      "WARNING:tensorflow:Layers in a Sequential model should only have a single input tensor, but we receive a <class 'collections.OrderedDict'> input: OrderedDict([('pickup_longitude', <tf.Tensor 'ExpandDims_4:0' shape=(1000, 1) dtype=float32>), ('pickup_latitude', <tf.Tensor 'ExpandDims_3:0' shape=(1000, 1) dtype=float32>), ('dropoff_longitude', <tf.Tensor 'ExpandDims_1:0' shape=(1000, 1) dtype=float32>), ('dropoff_latitude', <tf.Tensor 'ExpandDims:0' shape=(1000, 1) dtype=float32>), ('passenger_count', <tf.Tensor 'ExpandDims_2:0' shape=(1000, 1) dtype=float32>)])\n",
      "Consider rewriting this model with the Functional API.\n"
     ]
    },
    {
     "name": "stderr",
     "output_type": "stream",
     "text": [
      "2021-12-27 15:32:36.059589: I tensorflow/core/profiler/lib/profiler_session.cc:131] Profiler session initializing.\n",
      "2021-12-27 15:32:36.059643: I tensorflow/core/profiler/lib/profiler_session.cc:146] Profiler session started.\n",
      "2021-12-27 15:32:36.060890: I tensorflow/core/profiler/lib/profiler_session.cc:164] Profiler session tear down.\n"
     ]
    },
    {
     "name": "stdout",
     "output_type": "stream",
     "text": [
      "WARNING:tensorflow:Layers in a Sequential model should only have a single input tensor, but we receive a <class 'collections.OrderedDict'> input: OrderedDict([('pickup_longitude', <tf.Tensor 'ExpandDims_4:0' shape=(1000, 1) dtype=float32>), ('pickup_latitude', <tf.Tensor 'ExpandDims_3:0' shape=(1000, 1) dtype=float32>), ('dropoff_longitude', <tf.Tensor 'ExpandDims_1:0' shape=(1000, 1) dtype=float32>), ('dropoff_latitude', <tf.Tensor 'ExpandDims:0' shape=(1000, 1) dtype=float32>), ('passenger_count', <tf.Tensor 'ExpandDims_2:0' shape=(1000, 1) dtype=float32>)])\n",
      "Consider rewriting this model with the Functional API.\n"
     ]
    },
    {
     "name": "stderr",
     "output_type": "stream",
     "text": [
      "2021-12-27 15:32:36.786002: I tensorflow/compiler/mlir/mlir_graph_optimization_pass.cc:185] None of the MLIR Optimization Passes are enabled (registered 2)\n",
      "2021-12-27 15:32:46.986227: I tensorflow/core/kernels/data/shuffle_dataset_op.cc:175] Filling up shuffle buffer (this may take a while): 465 of 1000\n",
      "2021-12-27 15:32:56.971472: I tensorflow/core/kernels/data/shuffle_dataset_op.cc:175] Filling up shuffle buffer (this may take a while): 955 of 1000\n"
     ]
    },
    {
     "name": "stdout",
     "output_type": "stream",
     "text": [
      "1/1 [==============================] - ETA: 0s - loss: 282.9226 - rmse: 16.8203 - mse: 282.9226"
     ]
    },
    {
     "name": "stderr",
     "output_type": "stream",
     "text": [
      "2021-12-27 15:32:57.896114: I tensorflow/core/kernels/data/shuffle_dataset_op.cc:228] Shuffle buffer filled.\n"
     ]
    },
    {
     "name": "stdout",
     "output_type": "stream",
     "text": [
      "WARNING:tensorflow:Layers in a Sequential model should only have a single input tensor, but we receive a <class 'collections.OrderedDict'> input: OrderedDict([('pickup_longitude', <tf.Tensor 'ExpandDims_4:0' shape=(1000, 1) dtype=float32>), ('pickup_latitude', <tf.Tensor 'ExpandDims_3:0' shape=(1000, 1) dtype=float32>), ('dropoff_longitude', <tf.Tensor 'ExpandDims_1:0' shape=(1000, 1) dtype=float32>), ('dropoff_latitude', <tf.Tensor 'ExpandDims:0' shape=(1000, 1) dtype=float32>), ('passenger_count', <tf.Tensor 'ExpandDims_2:0' shape=(1000, 1) dtype=float32>)])\n",
      "Consider rewriting this model with the Functional API.\n",
      "1/1 [==============================] - 23s 23s/step - loss: 282.9226 - rmse: 16.8203 - mse: 282.9226 - val_loss: 270.7437 - val_rmse: 16.4421 - val_mse: 270.7437\n",
      "Epoch 2/50\n",
      "1/1 [==============================] - ETA: 0s - loss: 220.2535 - rmse: 14.8409 - mse: 220.2535"
     ]
    },
    {
     "name": "stderr",
     "output_type": "stream",
     "text": [
      "2021-12-27 15:32:59.123072: I tensorflow/core/profiler/lib/profiler_session.cc:131] Profiler session initializing.\n",
      "2021-12-27 15:32:59.123126: I tensorflow/core/profiler/lib/profiler_session.cc:146] Profiler session started.\n",
      "2021-12-27 15:32:59.166136: I tensorflow/core/profiler/lib/profiler_session.cc:66] Profiler session collecting data.\n",
      "2021-12-27 15:32:59.173120: I tensorflow/core/profiler/lib/profiler_session.cc:164] Profiler session tear down.\n",
      "2021-12-27 15:32:59.185404: I tensorflow/core/profiler/rpc/client/save_profile.cc:136] Creating directory: ./taxi_trained/train/plugins/profile/2021_12_27_15_32_59\n",
      "\n",
      "2021-12-27 15:32:59.186655: I tensorflow/core/profiler/rpc/client/save_profile.cc:142] Dumped gzipped tool data for trace.json.gz to ./taxi_trained/train/plugins/profile/2021_12_27_15_32_59/tensorflow-2-6-20211228-001744.trace.json.gz\n",
      "2021-12-27 15:32:59.203543: I tensorflow/core/profiler/rpc/client/save_profile.cc:136] Creating directory: ./taxi_trained/train/plugins/profile/2021_12_27_15_32_59\n",
      "\n",
      "2021-12-27 15:32:59.204555: I tensorflow/core/profiler/rpc/client/save_profile.cc:142] Dumped gzipped tool data for memory_profile.json.gz to ./taxi_trained/train/plugins/profile/2021_12_27_15_32_59/tensorflow-2-6-20211228-001744.memory_profile.json.gz\n",
      "2021-12-27 15:32:59.205234: I tensorflow/core/profiler/rpc/client/capture_profile.cc:251] Creating directory: ./taxi_trained/train/plugins/profile/2021_12_27_15_32_59\n",
      "Dumped tool data for xplane.pb to ./taxi_trained/train/plugins/profile/2021_12_27_15_32_59/tensorflow-2-6-20211228-001744.xplane.pb\n",
      "Dumped tool data for overview_page.pb to ./taxi_trained/train/plugins/profile/2021_12_27_15_32_59/tensorflow-2-6-20211228-001744.overview_page.pb\n",
      "Dumped tool data for input_pipeline.pb to ./taxi_trained/train/plugins/profile/2021_12_27_15_32_59/tensorflow-2-6-20211228-001744.input_pipeline.pb\n",
      "Dumped tool data for tensorflow_stats.pb to ./taxi_trained/train/plugins/profile/2021_12_27_15_32_59/tensorflow-2-6-20211228-001744.tensorflow_stats.pb\n",
      "Dumped tool data for kernel_stats.pb to ./taxi_trained/train/plugins/profile/2021_12_27_15_32_59/tensorflow-2-6-20211228-001744.kernel_stats.pb\n",
      "\n"
     ]
    },
    {
     "name": "stdout",
     "output_type": "stream",
     "text": [
      "1/1 [==============================] - 1s 749ms/step - loss: 220.2535 - rmse: 14.8409 - mse: 220.2535 - val_loss: 253.5513 - val_rmse: 15.9141 - val_mse: 253.5513\n",
      "Epoch 3/50\n",
      "1/1 [==============================] - 1s 845ms/step - loss: 226.8080 - rmse: 15.0601 - mse: 226.8080 - val_loss: 235.4086 - val_rmse: 15.3341 - val_mse: 235.4086\n",
      "Epoch 4/50\n",
      "1/1 [==============================] - 1s 866ms/step - loss: 223.7166 - rmse: 14.9572 - mse: 223.7166 - val_loss: 216.2412 - val_rmse: 14.6973 - val_mse: 216.2412\n",
      "Epoch 5/50\n",
      "1/1 [==============================] - 1s 763ms/step - loss: 184.9867 - rmse: 13.6010 - mse: 184.9867 - val_loss: 203.4731 - val_rmse: 14.2543 - val_mse: 203.4731\n",
      "Epoch 6/50\n",
      "1/1 [==============================] - 1s 918ms/step - loss: 208.4702 - rmse: 14.4385 - mse: 208.4702 - val_loss: 185.8681 - val_rmse: 13.6213 - val_mse: 185.8681\n",
      "Epoch 7/50\n",
      "1/1 [==============================] - 1s 651ms/step - loss: 154.2094 - rmse: 12.4181 - mse: 154.2094 - val_loss: 173.0217 - val_rmse: 13.1406 - val_mse: 173.0217\n",
      "Epoch 8/50\n",
      "1/1 [==============================] - 1s 889ms/step - loss: 182.1954 - rmse: 13.4980 - mse: 182.1954 - val_loss: 163.7003 - val_rmse: 12.7863 - val_mse: 163.7003\n",
      "Epoch 9/50\n",
      "1/1 [==============================] - 1s 723ms/step - loss: 121.6419 - rmse: 11.0291 - mse: 121.6419 - val_loss: 153.6703 - val_rmse: 12.3742 - val_mse: 153.6703\n",
      "Epoch 10/50\n",
      "1/1 [==============================] - 1s 844ms/step - loss: 154.9386 - rmse: 12.4474 - mse: 154.9386 - val_loss: 143.5957 - val_rmse: 11.9618 - val_mse: 143.5957\n",
      "Epoch 11/50\n",
      "1/1 [==============================] - 1s 743ms/step - loss: 105.2126 - rmse: 10.2573 - mse: 105.2126 - val_loss: 139.1416 - val_rmse: 11.7829 - val_mse: 139.1416\n",
      "Epoch 12/50\n",
      "1/1 [==============================] - 1s 838ms/step - loss: 122.4618 - rmse: 11.0662 - mse: 122.4618 - val_loss: 131.5697 - val_rmse: 11.4663 - val_mse: 131.5697\n",
      "Epoch 13/50\n",
      "1/1 [==============================] - 1s 745ms/step - loss: 94.7242 - rmse: 9.7326 - mse: 94.7242 - val_loss: 128.6402 - val_rmse: 11.3283 - val_mse: 128.6402\n",
      "Epoch 14/50\n",
      "1/1 [==============================] - 1s 905ms/step - loss: 113.4519 - rmse: 10.6514 - mse: 113.4519 - val_loss: 120.9668 - val_rmse: 10.9733 - val_mse: 120.9668\n",
      "Epoch 15/50\n",
      "1/1 [==============================] - 1s 897ms/step - loss: 117.4877 - rmse: 10.8392 - mse: 117.4877 - val_loss: 118.8850 - val_rmse: 10.8731 - val_mse: 118.8850\n",
      "Epoch 16/50\n",
      "1/1 [==============================] - 1s 740ms/step - loss: 106.7265 - rmse: 10.3309 - mse: 106.7265 - val_loss: 116.9974 - val_rmse: 10.8104 - val_mse: 116.9974\n",
      "Epoch 17/50\n",
      "1/1 [==============================] - 1s 893ms/step - loss: 98.4797 - rmse: 9.9237 - mse: 98.4797 - val_loss: 112.9704 - val_rmse: 10.6165 - val_mse: 112.9704\n",
      "Epoch 18/50\n",
      "1/1 [==============================] - 1s 892ms/step - loss: 78.7767 - rmse: 8.8756 - mse: 78.7767 - val_loss: 112.9806 - val_rmse: 10.6097 - val_mse: 112.9806\n",
      "Epoch 19/50\n",
      "1/1 [==============================] - 1s 909ms/step - loss: 108.2771 - rmse: 10.4056 - mse: 108.2771 - val_loss: 110.9577 - val_rmse: 10.5213 - val_mse: 110.9577\n",
      "Epoch 20/50\n",
      "1/1 [==============================] - 1s 789ms/step - loss: 91.5183 - rmse: 9.5665 - mse: 91.5183 - val_loss: 110.9847 - val_rmse: 10.5187 - val_mse: 110.9847\n",
      "Epoch 21/50\n",
      "1/1 [==============================] - 1s 774ms/step - loss: 98.0188 - rmse: 9.9004 - mse: 98.0188 - val_loss: 111.7188 - val_rmse: 10.5531 - val_mse: 111.7188\n",
      "Epoch 22/50\n",
      "1/1 [==============================] - 1s 776ms/step - loss: 85.5705 - rmse: 9.2504 - mse: 85.5705 - val_loss: 110.5522 - val_rmse: 10.5032 - val_mse: 110.5522\n",
      "Epoch 23/50\n",
      "1/1 [==============================] - 1s 923ms/step - loss: 96.9617 - rmse: 9.8469 - mse: 96.9617 - val_loss: 111.5725 - val_rmse: 10.5440 - val_mse: 111.5725\n",
      "Epoch 24/50\n",
      "1/1 [==============================] - 1s 670ms/step - loss: 83.7855 - rmse: 9.1534 - mse: 83.7855 - val_loss: 110.8685 - val_rmse: 10.5192 - val_mse: 110.8685\n",
      "Epoch 25/50\n",
      "1/1 [==============================] - 1s 860ms/step - loss: 76.4533 - rmse: 8.7438 - mse: 76.4533 - val_loss: 109.9974 - val_rmse: 10.4779 - val_mse: 109.9974\n",
      "Epoch 26/50\n",
      "1/1 [==============================] - 1s 910ms/step - loss: 88.7773 - rmse: 9.4222 - mse: 88.7773 - val_loss: 113.9031 - val_rmse: 10.6443 - val_mse: 113.9031\n",
      "Epoch 27/50\n",
      "1/1 [==============================] - 1s 970ms/step - loss: 90.3573 - rmse: 9.5056 - mse: 90.3573 - val_loss: 110.1517 - val_rmse: 10.4527 - val_mse: 110.1517\n",
      "Epoch 28/50\n",
      "1/1 [==============================] - 1s 936ms/step - loss: 108.4515 - rmse: 10.4140 - mse: 108.4515 - val_loss: 111.7611 - val_rmse: 10.5587 - val_mse: 111.7611\n",
      "Epoch 29/50\n",
      "1/1 [==============================] - 1s 963ms/step - loss: 95.4303 - rmse: 9.7688 - mse: 95.4303 - val_loss: 113.0099 - val_rmse: 10.6155 - val_mse: 113.0099\n",
      "Epoch 30/50\n",
      "1/1 [==============================] - 1s 921ms/step - loss: 95.6549 - rmse: 9.7803 - mse: 95.6549 - val_loss: 112.1718 - val_rmse: 10.5752 - val_mse: 112.1718\n",
      "Epoch 31/50\n",
      "1/1 [==============================] - 1s 913ms/step - loss: 95.7540 - rmse: 9.7854 - mse: 95.7540 - val_loss: 111.2942 - val_rmse: 10.5425 - val_mse: 111.2942\n",
      "Epoch 32/50\n",
      "1/1 [==============================] - 1s 829ms/step - loss: 122.4973 - rmse: 11.0678 - mse: 122.4973 - val_loss: 111.9791 - val_rmse: 10.5659 - val_mse: 111.9791\n",
      "Epoch 33/50\n",
      "1/1 [==============================] - 1s 869ms/step - loss: 85.5201 - rmse: 9.2477 - mse: 85.5201 - val_loss: 112.8045 - val_rmse: 10.6118 - val_mse: 112.8045\n",
      "Epoch 34/50\n",
      "1/1 [==============================] - 1s 887ms/step - loss: 84.3488 - rmse: 9.1842 - mse: 84.3488 - val_loss: 112.0141 - val_rmse: 10.5702 - val_mse: 112.0141\n",
      "Epoch 35/50\n",
      "1/1 [==============================] - 1s 897ms/step - loss: 105.1726 - rmse: 10.2554 - mse: 105.1726 - val_loss: 112.7532 - val_rmse: 10.6017 - val_mse: 112.7532\n",
      "Epoch 36/50\n",
      "1/1 [==============================] - 1s 921ms/step - loss: 95.4359 - rmse: 9.7691 - mse: 95.4359 - val_loss: 112.3090 - val_rmse: 10.5741 - val_mse: 112.3090\n",
      "Epoch 37/50\n",
      "1/1 [==============================] - 1s 910ms/step - loss: 88.0579 - rmse: 9.3839 - mse: 88.0579 - val_loss: 112.7624 - val_rmse: 10.6143 - val_mse: 112.7624\n",
      "Epoch 38/50\n",
      "1/1 [==============================] - 1s 890ms/step - loss: 103.9380 - rmse: 10.1950 - mse: 103.9380 - val_loss: 112.3479 - val_rmse: 10.5704 - val_mse: 112.3479\n",
      "Epoch 39/50\n",
      "1/1 [==============================] - 1s 917ms/step - loss: 90.3629 - rmse: 9.5059 - mse: 90.3629 - val_loss: 110.6401 - val_rmse: 10.5088 - val_mse: 110.6401\n",
      "Epoch 40/50\n",
      "1/1 [==============================] - 1s 903ms/step - loss: 120.4834 - rmse: 10.9765 - mse: 120.4834 - val_loss: 109.7242 - val_rmse: 10.4654 - val_mse: 109.7242\n",
      "Epoch 41/50\n",
      "1/1 [==============================] - 1s 910ms/step - loss: 99.1015 - rmse: 9.9550 - mse: 99.1015 - val_loss: 107.9030 - val_rmse: 10.3638 - val_mse: 107.9030\n",
      "Epoch 42/50\n",
      "1/1 [==============================] - 1s 855ms/step - loss: 75.0295 - rmse: 8.6620 - mse: 75.0295 - val_loss: 111.6085 - val_rmse: 10.5491 - val_mse: 111.6085\n",
      "Epoch 43/50\n",
      "1/1 [==============================] - 1s 912ms/step - loss: 91.3329 - rmse: 9.5568 - mse: 91.3329 - val_loss: 109.9201 - val_rmse: 10.4667 - val_mse: 109.9201\n",
      "Epoch 44/50\n",
      "1/1 [==============================] - 1s 899ms/step - loss: 91.7932 - rmse: 9.5809 - mse: 91.7932 - val_loss: 110.4853 - val_rmse: 10.5017 - val_mse: 110.4853\n",
      "Epoch 45/50\n",
      "1/1 [==============================] - 1s 905ms/step - loss: 86.7043 - rmse: 9.3115 - mse: 86.7043 - val_loss: 110.5125 - val_rmse: 10.4942 - val_mse: 110.5125\n",
      "Epoch 46/50\n",
      "1/1 [==============================] - 1s 714ms/step - loss: 112.4504 - rmse: 10.6043 - mse: 112.4504 - val_loss: 110.4575 - val_rmse: 10.5063 - val_mse: 110.4575\n",
      "Epoch 47/50\n",
      "1/1 [==============================] - 1s 723ms/step - loss: 88.5565 - rmse: 9.4104 - mse: 88.5565 - val_loss: 110.4983 - val_rmse: 10.5050 - val_mse: 110.4983\n",
      "Epoch 48/50\n",
      "1/1 [==============================] - 1s 819ms/step - loss: 114.6562 - rmse: 10.7078 - mse: 114.6562 - val_loss: 109.3577 - val_rmse: 10.4467 - val_mse: 109.3577\n",
      "Epoch 49/50\n",
      "1/1 [==============================] - 1s 732ms/step - loss: 88.9616 - rmse: 9.4319 - mse: 88.9616 - val_loss: 109.2284 - val_rmse: 10.4350 - val_mse: 109.2284\n",
      "Epoch 50/50\n",
      "1/1 [==============================] - 1s 873ms/step - loss: 86.8650 - rmse: 9.3201 - mse: 86.8650 - val_loss: 111.9580 - val_rmse: 10.5593 - val_mse: 111.9580\n"
     ]
    }
   ],
   "source": [
    "%time \n",
    "# TODO 3\n",
    "steps_per_epoch = NUM_TRAIN_EXAMPLES // (TRAIN_BATCH_SIZE * NUM_EVALS)\n",
    "\n",
    "LOGDIR = \"./taxi_trained\"\n",
    "# Train the sequential model\n",
    "history = model.fit(x=trainds,\n",
    "                    steps_per_epoch=steps_per_epoch,\n",
    "                    epochs=NUM_EVALS,\n",
    "                    validation_data=evalds,\n",
    "                    callbacks=[TensorBoard(LOGDIR)])"
   ]
  },
  {
   "cell_type": "markdown",
   "metadata": {},
   "source": [
    "### High-level model evaluation\n",
    "\n",
    "Once we've run data through the model, we can call `.summary()` on the model to get a high-level summary of our network. We can also plot the training and evaluation curves for the metrics we computed above. "
   ]
  },
  {
   "cell_type": "code",
   "execution_count": null,
   "metadata": {},
   "outputs": [
    {
     "name": "stdout",
     "output_type": "stream",
     "text": [
      "Model: \"sequential\"\n",
      "_________________________________________________________________\n",
      "Layer (type)                 Output Shape              Param #   \n",
      "=================================================================\n",
      "dense_features (DenseFeature multiple                  0         \n",
      "_________________________________________________________________\n",
      "h1 (Dense)                   multiple                  192       \n",
      "_________________________________________________________________\n",
      "h2 (Dense)                   multiple                  264       \n",
      "_________________________________________________________________\n",
      "output (Dense)               multiple                  9         \n",
      "=================================================================\n",
      "Total params: 465\n",
      "Trainable params: 465\n",
      "Non-trainable params: 0\n",
      "_________________________________________________________________\n"
     ]
    }
   ],
   "source": [
    "# The summary() is a generic function used to produce result summaries of the results of various model fitting functions.\n",
    "model.summary()"
   ]
  },
  {
   "cell_type": "markdown",
   "metadata": {},
   "source": [
    "Running `.fit` (or `.fit_generator`) returns a History object which collects all the events recorded during training. Similar to Tensorboard, we can plot the training and validation curves for the model loss and rmse by accessing these elements of the History object."
   ]
  },
  {
   "cell_type": "code",
   "execution_count": null,
   "metadata": {},
   "outputs": [
    {
     "data": {
      "text/plain": [
       "<AxesSubplot:>"
      ]
     },
     "execution_count": 12,
     "metadata": {},
     "output_type": "execute_result"
    },
    {
     "data": {
      "image/png": "[encoded data removed]",
      "text/plain": [
       "<Figure size 432x288 with 1 Axes>"
      ]
     },
     "metadata": {
      "needs_background": "light"
     },
     "output_type": "display_data"
    }
   ],
   "source": [
    "RMSE_COLS = ['rmse', 'val_rmse']\n",
    "\n",
    "# The history object is returned from calls to the fit() function used to train the model.\n",
    "# Metrics are stored in a dictionary in the history member of the object returned.\n",
    "pd.DataFrame(history.history)[RMSE_COLS].plot()"
   ]
  },
  {
   "cell_type": "code",
   "execution_count": null,
   "metadata": {},
   "outputs": [
    {
     "data": {
      "text/plain": [
       "<AxesSubplot:>"
      ]
     },
     "execution_count": 13,
     "metadata": {},
     "output_type": "execute_result"
    },
    {
     "data": {
      "image/png": "[encoded data removed]",
      "text/plain": [
       "<Figure size 432x288 with 1 Axes>"
      ]
     },
     "metadata": {
      "needs_background": "light"
     },
     "output_type": "display_data"
    }
   ],
   "source": [
    "LOSS_COLS = ['loss', 'val_loss']\n",
    "\n",
    "# The history object is returned from calls to the fit() function used to train the model.\n",
    "# Metrics are stored in a dictionary in the history member of the object returned.\n",
    "pd.DataFrame(history.history)[LOSS_COLS].plot()"
   ]
  },
  {
   "cell_type": "markdown",
   "metadata": {},
   "source": [
    "# Making predictions with our model\n",
    "\n",
    "To make predictions with our trained model, we can call the [predict method](https://www.tensorflow.org/api_docs/python/tf/keras/Model#predict), passing to it a dictionary of values. The `steps` parameter determines the total number of steps before declaring the prediction round finished. Here since we have just one example, we set `steps=1` (setting `steps=None` would also work). Note, however, that if x is a `tf.data` dataset or a dataset iterator, and steps is set to None, predict will run until the input dataset is exhausted."
   ]
  },
  {
   "cell_type": "code",
   "execution_count": null,
   "metadata": {},
   "outputs": [
    {
     "name": "stdout",
     "output_type": "stream",
     "text": [
      "WARNING:tensorflow:Layers in a Sequential model should only have a single input tensor, but we receive a <class 'dict'> input: {'pickup_longitude': <tf.Tensor 'ExpandDims_4:0' shape=(1, 1) dtype=float32>, 'pickup_latitude': <tf.Tensor 'ExpandDims_3:0' shape=(1, 1) dtype=float32>, 'dropoff_longitude': <tf.Tensor 'ExpandDims_1:0' shape=(1, 1) dtype=float32>, 'dropoff_latitude': <tf.Tensor 'ExpandDims:0' shape=(1, 1) dtype=float32>, 'passenger_count': <tf.Tensor 'ExpandDims_2:0' shape=(1, 1) dtype=float32>}\n",
      "Consider rewriting this model with the Functional API.\n"
     ]
    },
    {
     "data": {
      "text/plain": [
       "array([[11.260238]], dtype=float32)"
      ]
     },
     "execution_count": 14,
     "metadata": {},
     "output_type": "execute_result"
    }
   ],
   "source": [
    "# The predict() method will predict the response for model. \n",
    "# Using tf.convert_to_tensor() we will convert the given value to a Tensor. \n",
    "model.predict(x={\"pickup_longitude\": tf.convert_to_tensor([-73.982683]),\n",
    "                 \"pickup_latitude\": tf.convert_to_tensor([40.742104]),\n",
    "                 \"dropoff_longitude\": tf.convert_to_tensor([-73.983766]),\n",
    "                 \"dropoff_latitude\": tf.convert_to_tensor([40.755174]),\n",
    "                 \"passenger_count\": tf.convert_to_tensor([3.0])},\n",
    "              steps=1)"
   ]
  },
  {
   "cell_type": "markdown",
   "metadata": {},
   "source": [
    "# Export and deploy our model\n",
    "\n",
    "Of course, making individual predictions is not realistic, because we can't expect client code to have a model object in memory. For others to use our trained model, we'll have to export our model to a file, and expect client code to instantiate the model from that exported file. \n",
    "\n",
    "We'll export the model to a TensorFlow SavedModel format. Once we have a model in this format, we have lots of ways to \"serve\" the model, from a web application, from JavaScript, from mobile applications, etc."
   ]
  },
  {
   "cell_type": "code",
   "execution_count": null,
   "metadata": {},
   "outputs": [
    {
     "name": "stdout",
     "output_type": "stream",
     "text": [
      "WARNING:tensorflow:Layers in a Sequential model should only have a single input tensor, but we receive a <class 'collections.OrderedDict'> input: OrderedDict([('pickup_longitude', <tf.Tensor 'pickup_longitude:0' shape=(None, 1) dtype=float32>), ('pickup_latitude', <tf.Tensor 'pickup_latitude:0' shape=(None, 1) dtype=float32>), ('dropoff_longitude', <tf.Tensor 'dropoff_longitude:0' shape=(None, 1) dtype=float32>), ('dropoff_latitude', <tf.Tensor 'dropoff_latitude:0' shape=(None, 1) dtype=float32>), ('passenger_count', <tf.Tensor 'passenger_count:0' shape=(None, 1) dtype=float32>)])\n",
      "Consider rewriting this model with the Functional API.\n",
      "WARNING:tensorflow:Layers in a Sequential model should only have a single input tensor, but we receive a <class 'collections.OrderedDict'> input: OrderedDict([('pickup_longitude', <tf.Tensor 'inputs_4:0' shape=(None, 1) dtype=float32>), ('pickup_latitude', <tf.Tensor 'inputs_3:0' shape=(None, 1) dtype=float32>), ('dropoff_longitude', <tf.Tensor 'inputs_1:0' shape=(None, 1) dtype=float32>), ('dropoff_latitude', <tf.Tensor 'inputs:0' shape=(None, 1) dtype=float32>), ('passenger_count', <tf.Tensor 'inputs_2:0' shape=(None, 1) dtype=float32>)])\n",
      "Consider rewriting this model with the Functional API.\n",
      "WARNING:tensorflow:Layers in a Sequential model should only have a single input tensor, but we receive a <class 'collections.OrderedDict'> input: OrderedDict([('pickup_longitude', <tf.Tensor 'inputs_4:0' shape=(None, 1) dtype=float32>), ('pickup_latitude', <tf.Tensor 'inputs_3:0' shape=(None, 1) dtype=float32>), ('dropoff_longitude', <tf.Tensor 'inputs_1:0' shape=(None, 1) dtype=float32>), ('dropoff_latitude', <tf.Tensor 'inputs:0' shape=(None, 1) dtype=float32>), ('passenger_count', <tf.Tensor 'inputs_2:0' shape=(None, 1) dtype=float32>)])\n",
      "Consider rewriting this model with the Functional API.\n",
      "WARNING:tensorflow:Layers in a Sequential model should only have a single input tensor, but we receive a <class 'collections.OrderedDict'> input: OrderedDict([('pickup_longitude', <tf.Tensor 'pickup_longitude:0' shape=(None, 1) dtype=float32>), ('pickup_latitude', <tf.Tensor 'pickup_latitude:0' shape=(None, 1) dtype=float32>), ('dropoff_longitude', <tf.Tensor 'dropoff_longitude:0' shape=(None, 1) dtype=float32>), ('dropoff_latitude', <tf.Tensor 'dropoff_latitude:0' shape=(None, 1) dtype=float32>), ('passenger_count', <tf.Tensor 'passenger_count:0' shape=(None, 1) dtype=float32>)])\n",
      "Consider rewriting this model with the Functional API.\n",
      "WARNING:tensorflow:Layers in a Sequential model should only have a single input tensor, but we receive a <class 'collections.OrderedDict'> input: OrderedDict([('pickup_longitude', <tf.Tensor 'pickup_longitude:0' shape=(None, 1) dtype=float32>), ('pickup_latitude', <tf.Tensor 'pickup_latitude:0' shape=(None, 1) dtype=float32>), ('dropoff_longitude', <tf.Tensor 'dropoff_longitude:0' shape=(None, 1) dtype=float32>), ('dropoff_latitude', <tf.Tensor 'dropoff_latitude:0' shape=(None, 1) dtype=float32>), ('passenger_count', <tf.Tensor 'passenger_count:0' shape=(None, 1) dtype=float32>)])\n",
      "Consider rewriting this model with the Functional API.\n",
      "WARNING:tensorflow:Layers in a Sequential model should only have a single input tensor, but we receive a <class 'collections.OrderedDict'> input: OrderedDict([('pickup_longitude', <tf.Tensor 'inputs/pickup_longitude:0' shape=(None, 1) dtype=float32>), ('pickup_latitude', <tf.Tensor 'inputs/pickup_latitude:0' shape=(None, 1) dtype=float32>), ('dropoff_longitude', <tf.Tensor 'inputs/dropoff_longitude:0' shape=(None, 1) dtype=float32>), ('dropoff_latitude', <tf.Tensor 'inputs/dropoff_latitude:0' shape=(None, 1) dtype=float32>), ('passenger_count', <tf.Tensor 'inputs/passenger_count:0' shape=(None, 1) dtype=float32>)])\n",
      "Consider rewriting this model with the Functional API.\n",
      "WARNING:tensorflow:Layers in a Sequential model should only have a single input tensor, but we receive a <class 'collections.OrderedDict'> input: OrderedDict([('pickup_longitude', <tf.Tensor 'inputs/pickup_longitude:0' shape=(None, 1) dtype=float32>), ('pickup_latitude', <tf.Tensor 'inputs/pickup_latitude:0' shape=(None, 1) dtype=float32>), ('dropoff_longitude', <tf.Tensor 'inputs/dropoff_longitude:0' shape=(None, 1) dtype=float32>), ('dropoff_latitude', <tf.Tensor 'inputs/dropoff_latitude:0' shape=(None, 1) dtype=float32>), ('passenger_count', <tf.Tensor 'inputs/passenger_count:0' shape=(None, 1) dtype=float32>)])\n",
      "Consider rewriting this model with the Functional API.\n",
      "WARNING:tensorflow:Layers in a Sequential model should only have a single input tensor, but we receive a <class 'collections.OrderedDict'> input: OrderedDict([('pickup_longitude', <tf.Tensor 'pickup_longitude:0' shape=(None, 1) dtype=float32>), ('pickup_latitude', <tf.Tensor 'pickup_latitude:0' shape=(None, 1) dtype=float32>), ('dropoff_longitude', <tf.Tensor 'dropoff_longitude:0' shape=(None, 1) dtype=float32>), ('dropoff_latitude', <tf.Tensor 'dropoff_latitude:0' shape=(None, 1) dtype=float32>), ('passenger_count', <tf.Tensor 'passenger_count:0' shape=(None, 1) dtype=float32>)])\n",
      "Consider rewriting this model with the Functional API.\n"
     ]
    },
    {
     "name": "stderr",
     "output_type": "stream",
     "text": [
      "2021-12-27 15:33:42.722068: W tensorflow/python/util/util.cc:348] Sets are not currently considered sequences, but this may change in the future, so consider avoiding using them.\n"
     ]
    },
    {
     "name": "stdout",
     "output_type": "stream",
     "text": [
      "WARNING:tensorflow:Layers in a Sequential model should only have a single input tensor, but we receive a <class 'collections.OrderedDict'> input: OrderedDict([('pickup_longitude', <tf.Tensor 'pickup_longitude:0' shape=(None, 1) dtype=float32>), ('pickup_latitude', <tf.Tensor 'pickup_latitude:0' shape=(None, 1) dtype=float32>), ('dropoff_longitude', <tf.Tensor 'dropoff_longitude:0' shape=(None, 1) dtype=float32>), ('dropoff_latitude', <tf.Tensor 'dropoff_latitude:0' shape=(None, 1) dtype=float32>), ('passenger_count', <tf.Tensor 'passenger_count:0' shape=(None, 1) dtype=float32>)])\n",
      "Consider rewriting this model with the Functional API.\n",
      "INFO:tensorflow:Assets written to: ./export/savedmodel/20211227153342/assets\n"
     ]
    }
   ],
   "source": [
    "# TODO 4a\n",
    "OUTPUT_DIR = \"./export/savedmodel\"\n",
    "shutil.rmtree(OUTPUT_DIR, ignore_errors=True)\n",
    "# The join() method takes all items in an iterable and joins them into one string.\n",
    "EXPORT_PATH = os.path.join(OUTPUT_DIR,\n",
    "                           datetime.datetime.now().strftime(\"%Y%m%d%H%M%S\"))\n",
    "tf.saved_model.save(model, EXPORT_PATH)  # with default serving function"
   ]
  },
  {
   "cell_type": "code",
   "execution_count": null,
   "metadata": {},
   "outputs": [
    {
     "name": "stdout",
     "output_type": "stream",
     "text": [
      "The given SavedModel SignatureDef contains the following input(s):\n",
      "  inputs['dropoff_latitude'] tensor_info:\n",
      "      dtype: DT_FLOAT\n",
      "      shape: (-1, 1)\n",
      "      name: serving_default_dropoff_latitude:0\n",
      "  inputs['dropoff_longitude'] tensor_info:\n",
      "      dtype: DT_FLOAT\n",
      "      shape: (-1, 1)\n",
      "      name: serving_default_dropoff_longitude:0\n",
      "  inputs['passenger_count'] tensor_info:\n",
      "      dtype: DT_FLOAT\n",
      "      shape: (-1, 1)\n",
      "      name: serving_default_passenger_count:0\n",
      "  inputs['pickup_latitude'] tensor_info:\n",
      "      dtype: DT_FLOAT\n",
      "      shape: (-1, 1)\n",
      "      name: serving_default_pickup_latitude:0\n",
      "  inputs['pickup_longitude'] tensor_info:\n",
      "      dtype: DT_FLOAT\n",
      "      shape: (-1, 1)\n",
      "      name: serving_default_pickup_longitude:0\n",
      "The given SavedModel SignatureDef contains the following output(s):\n",
      "  outputs['output_1'] tensor_info:\n",
      "      dtype: DT_FLOAT\n",
      "      shape: (-1, 1)\n",
      "      name: StatefulPartitionedCall:0\n",
      "Method name is: tensorflow/serving/predict\n",
      "./export/savedmodel/20211227153342\n",
      "./export/savedmodel/20211227153342/saved_model.pb\n",
      "./export/savedmodel/20211227153342/assets\n",
      "./export/savedmodel/20211227153342/variables\n",
      "./export/savedmodel/20211227153342/variables/variables.data-00000-of-00001\n",
      "./export/savedmodel/20211227153342/variables/variables.index\n"
     ]
    }
   ],
   "source": [
    "# Export the model to a TensorFlow SavedModel format\n",
    "# TODO 4b\n",
    "!saved_model_cli show \\\n",
    " --tag_set serve \\\n",
    " --signature_def serving_default \\\n",
    " --dir {EXPORT_PATH}\n",
    "!find {EXPORT_PATH}\n",
    "os.environ['EXPORT_PATH'] = EXPORT_PATH"
   ]
  },
  {
   "cell_type": "markdown",
   "metadata": {},
   "source": [
    "### Deploy our model to AI Platform\n",
    "\n",
    "Finally, we will deploy our trained model to AI Platform and see how we can make online predicitons. "
   ]
  },
  {
   "cell_type": "code",
   "execution_count": null,
   "metadata": {},
   "outputs": [
    {
     "name": "stderr",
     "output_type": "stream",
     "text": [
      "Updated property [compute/region].\n"
     ]
    }
   ],
   "source": [
    "%%bash\n",
    "gcloud config set compute/region us-east1\n"
   ]
  },
  {
   "cell_type": "markdown",
   "metadata": {},
   "source": [
    "**Below cell will take around 10 minutes to complete.**"
   ]
  },
  {
   "cell_type": "code",
   "execution_count": null,
   "metadata": {},
   "outputs": [
    {
     "name": "stdout",
     "output_type": "stream",
     "text": [
      "Creating a new GCS bucket.\n",
      "Here are your current buckets:\n",
      "taxifare already exists\n",
      "Creating taxifare:dnn\n"
     ]
    },
    {
     "name": "stderr",
     "output_type": "stream",
     "text": [
      "bash: line 4: qwiklabs-gcp-04-7848f697df8a: command not found\n",
      "CommandException: \"mb\" command does not support provider-only URLs.\n",
      "Using endpoint [https://us-west1-ml.googleapis.com/]\n",
      "Using endpoint [https://us-west1-ml.googleapis.com/]\n",
      "ERROR: (gcloud.ai-platform.versions.create) argument --staging-bucket: Invalid bucket name []: Bucket names must contain 3 to 63 characters. Names containing dots can contain up to 222 characters, but each dot-separated component can be no longer than 63 characters.\n",
      "\n",
      "See https://cloud.google.com/storage/docs/naming#requirements for details.\n"
     ]
    },
    {
     "ename": "CalledProcessError",
     "evalue": "Command 'b'\\n# TODO 5a\\n\\nPROJECT= \"qwiklabs-gcp-04-7848f697df8a\" # TODO: Change this to your PROJECT\\nBUCKET=${PROJECT}\\nREGION=us-west1\\nMODEL_NAME=taxifare\\nVERSION_NAME=dnn\\n\\n# Create GCS bucket if it doesn\\'t exist already...\\nexists=$(gsutil ls -d | grep -w gs://${BUCKET}/)\\n\\nif [ -n \"$exists\" ]; then\\n    echo -e \"Bucket exists, let\\'s not recreate it.\"\\nelse\\n    echo \"Creating a new GCS bucket.\"\\n    gsutil mb -l ${REGION} gs://${BUCKET}\\n    echo \"Here are your current buckets:\"\\n    gsutil ls\\nfi\\n\\nif [[ $(gcloud ai-platform models list --format=\\'value(name)\\' --region=$REGION | grep $MODEL_NAME) ]]; then\\n    echo \"$MODEL_NAME already exists\"\\nelse\\n    echo \"Creating $MODEL_NAME\"\\n    gcloud ai-platform models create --region=$REGION $MODEL_NAME\\nfi\\n\\nif [[ $(gcloud ai-platform versions list --model $MODEL_NAME --region=$REGION --format=\\'value(name)\\' | grep $VERSION_NAME) ]]; then\\n    echo \"Deleting already existing $MODEL_NAME:$VERSION_NAME ... \"\\n    echo yes | gcloud ai-platform versions delete --model=$MODEL_NAME $VERSION_NAME --region=$REGION\\n    echo \"Please run this cell again if you don\\'t see a Creating message ... \"\\n    sleep 2\\nfi\\n\\necho \"Creating $MODEL_NAME:$VERSION_NAME\"\\ngcloud ai-platform versions create --model=$MODEL_NAME $VERSION_NAME \\\\\\n       --framework=tensorflow --python-version=3.7 --runtime-version=2.1 \\\\\\n       --origin=$EXPORT_PATH --staging-bucket=gs://$BUCKET --region=$REGION\\n'' returned non-zero exit status 2.",
     "output_type": "error",
     "traceback": [
      "\u001b[0;31m---------------------------------------------------------------------------\u001b[0m",
      "\u001b[0;31mCalledProcessError\u001b[0m                        Traceback (most recent call last)",
      "\u001b[0;32m/tmp/ipykernel_30373/3554266905.py\u001b[0m in \u001b[0;36m<module>\u001b[0;34m\u001b[0m\n\u001b[0;32m----> 1\u001b[0;31m \u001b[0mget_ipython\u001b[0m\u001b[0;34m(\u001b[0m\u001b[0;34m)\u001b[0m\u001b[0;34m.\u001b[0m\u001b[0mrun_cell_magic\u001b[0m\u001b[0;34m(\u001b[0m\u001b[0;34m'bash'\u001b[0m\u001b[0;34m,\u001b[0m \u001b[0;34m''\u001b[0m\u001b[0;34m,\u001b[0m \u001b[0;34m'\\n# TODO 5a\\n\\nPROJECT= \"qwiklabs-gcp-04-7848f697df8a\" # TODO: Change this to your PROJECT\\nBUCKET=${PROJECT}\\nREGION=us-west1\\nMODEL_NAME=taxifare\\nVERSION_NAME=dnn\\n\\n# Create GCS bucket if it doesn\\'t exist already...\\nexists=$(gsutil ls -d | grep -w gs://${BUCKET}/)\\n\\nif [ -n \"$exists\" ]; then\\n    echo -e \"Bucket exists, let\\'s not recreate it.\"\\nelse\\n    echo \"Creating a new GCS bucket.\"\\n    gsutil mb -l ${REGION} gs://${BUCKET}\\n    echo \"Here are your current buckets:\"\\n    gsutil ls\\nfi\\n\\nif [[ $(gcloud ai-platform models list --format=\\'value(name)\\' --region=$REGION | grep $MODEL_NAME) ]]; then\\n    echo \"$MODEL_NAME already exists\"\\nelse\\n    echo \"Creating $MODEL_NAME\"\\n    gcloud ai-platform models create --region=$REGION $MODEL_NAME\\nfi\\n\\nif [[ $(gcloud ai-platform versions list --model $MODEL_NAME --region=$REGION --format=\\'value(name)\\' | grep $VERSION_NAME) ]]; then\\n    echo \"Deleting already existing $MODEL_NAME:$VERSION_NAME ... \"\\n    echo yes | gcloud ai-platform versions delete --model=$MODEL_NAME $VERSION_NAME --region=$REGION\\n    echo \"Please run this cell again if you don\\'t see a Creating message ... \"\\n    sleep 2\\nfi\\n\\necho \"Creating $MODEL_NAME:$VERSION_NAME\"\\ngcloud ai-platform versions create --model=$MODEL_NAME $VERSION_NAME \\\\\\n       --framework=tensorflow --python-version=3.7 --runtime-version=2.1 \\\\\\n       --origin=$EXPORT_PATH --staging-bucket=gs://$BUCKET --region=$REGION\\n'\u001b[0m\u001b[0;34m)\u001b[0m\u001b[0;34m\u001b[0m\u001b[0;34m\u001b[0m\u001b[0m\n\u001b[0m",
      "\u001b[0;32m/opt/conda/lib/python3.7/site-packages/IPython/core/interactiveshell.py\u001b[0m in \u001b[0;36mrun_cell_magic\u001b[0;34m(self, magic_name, line, cell)\u001b[0m\n\u001b[1;32m   2417\u001b[0m             \u001b[0;32mwith\u001b[0m \u001b[0mself\u001b[0m\u001b[0;34m.\u001b[0m\u001b[0mbuiltin_trap\u001b[0m\u001b[0;34m:\u001b[0m\u001b[0;34m\u001b[0m\u001b[0;34m\u001b[0m\u001b[0m\n\u001b[1;32m   2418\u001b[0m                 \u001b[0margs\u001b[0m \u001b[0;34m=\u001b[0m \u001b[0;34m(\u001b[0m\u001b[0mmagic_arg_s\u001b[0m\u001b[0;34m,\u001b[0m \u001b[0mcell\u001b[0m\u001b[0;34m)\u001b[0m\u001b[0;34m\u001b[0m\u001b[0;34m\u001b[0m\u001b[0m\n\u001b[0;32m-> 2419\u001b[0;31m                 \u001b[0mresult\u001b[0m \u001b[0;34m=\u001b[0m \u001b[0mfn\u001b[0m\u001b[0;34m(\u001b[0m\u001b[0;34m*\u001b[0m\u001b[0margs\u001b[0m\u001b[0;34m,\u001b[0m \u001b[0;34m**\u001b[0m\u001b[0mkwargs\u001b[0m\u001b[0;34m)\u001b[0m\u001b[0;34m\u001b[0m\u001b[0;34m\u001b[0m\u001b[0m\n\u001b[0m\u001b[1;32m   2420\u001b[0m             \u001b[0;32mreturn\u001b[0m \u001b[0mresult\u001b[0m\u001b[0;34m\u001b[0m\u001b[0;34m\u001b[0m\u001b[0m\n\u001b[1;32m   2421\u001b[0m \u001b[0;34m\u001b[0m\u001b[0m\n",
      "\u001b[0;32m/opt/conda/lib/python3.7/site-packages/IPython/core/magics/script.py\u001b[0m in \u001b[0;36mnamed_script_magic\u001b[0;34m(line, cell)\u001b[0m\n\u001b[1;32m    140\u001b[0m             \u001b[0;32melse\u001b[0m\u001b[0;34m:\u001b[0m\u001b[0;34m\u001b[0m\u001b[0;34m\u001b[0m\u001b[0m\n\u001b[1;32m    141\u001b[0m                 \u001b[0mline\u001b[0m \u001b[0;34m=\u001b[0m \u001b[0mscript\u001b[0m\u001b[0;34m\u001b[0m\u001b[0;34m\u001b[0m\u001b[0m\n\u001b[0;32m--> 142\u001b[0;31m             \u001b[0;32mreturn\u001b[0m \u001b[0mself\u001b[0m\u001b[0;34m.\u001b[0m\u001b[0mshebang\u001b[0m\u001b[0;34m(\u001b[0m\u001b[0mline\u001b[0m\u001b[0;34m,\u001b[0m \u001b[0mcell\u001b[0m\u001b[0;34m)\u001b[0m\u001b[0;34m\u001b[0m\u001b[0;34m\u001b[0m\u001b[0m\n\u001b[0m\u001b[1;32m    143\u001b[0m \u001b[0;34m\u001b[0m\u001b[0m\n\u001b[1;32m    144\u001b[0m         \u001b[0;31m# write a basic docstring:\u001b[0m\u001b[0;34m\u001b[0m\u001b[0;34m\u001b[0m\u001b[0;34m\u001b[0m\u001b[0m\n",
      "\u001b[0;32m/opt/conda/lib/python3.7/site-packages/decorator.py\u001b[0m in \u001b[0;36mfun\u001b[0;34m(*args, **kw)\u001b[0m\n\u001b[1;32m    230\u001b[0m             \u001b[0;32mif\u001b[0m \u001b[0;32mnot\u001b[0m \u001b[0mkwsyntax\u001b[0m\u001b[0;34m:\u001b[0m\u001b[0;34m\u001b[0m\u001b[0;34m\u001b[0m\u001b[0m\n\u001b[1;32m    231\u001b[0m                 \u001b[0margs\u001b[0m\u001b[0;34m,\u001b[0m \u001b[0mkw\u001b[0m \u001b[0;34m=\u001b[0m \u001b[0mfix\u001b[0m\u001b[0;34m(\u001b[0m\u001b[0margs\u001b[0m\u001b[0;34m,\u001b[0m \u001b[0mkw\u001b[0m\u001b[0;34m,\u001b[0m \u001b[0msig\u001b[0m\u001b[0;34m)\u001b[0m\u001b[0;34m\u001b[0m\u001b[0;34m\u001b[0m\u001b[0m\n\u001b[0;32m--> 232\u001b[0;31m             \u001b[0;32mreturn\u001b[0m \u001b[0mcaller\u001b[0m\u001b[0;34m(\u001b[0m\u001b[0mfunc\u001b[0m\u001b[0;34m,\u001b[0m \u001b[0;34m*\u001b[0m\u001b[0;34m(\u001b[0m\u001b[0mextras\u001b[0m \u001b[0;34m+\u001b[0m \u001b[0margs\u001b[0m\u001b[0;34m)\u001b[0m\u001b[0;34m,\u001b[0m \u001b[0;34m**\u001b[0m\u001b[0mkw\u001b[0m\u001b[0;34m)\u001b[0m\u001b[0;34m\u001b[0m\u001b[0;34m\u001b[0m\u001b[0m\n\u001b[0m\u001b[1;32m    233\u001b[0m     \u001b[0mfun\u001b[0m\u001b[0;34m.\u001b[0m\u001b[0m__name__\u001b[0m \u001b[0;34m=\u001b[0m \u001b[0mfunc\u001b[0m\u001b[0;34m.\u001b[0m\u001b[0m__name__\u001b[0m\u001b[0;34m\u001b[0m\u001b[0;34m\u001b[0m\u001b[0m\n\u001b[1;32m    234\u001b[0m     \u001b[0mfun\u001b[0m\u001b[0;34m.\u001b[0m\u001b[0m__doc__\u001b[0m \u001b[0;34m=\u001b[0m \u001b[0mfunc\u001b[0m\u001b[0;34m.\u001b[0m\u001b[0m__doc__\u001b[0m\u001b[0;34m\u001b[0m\u001b[0;34m\u001b[0m\u001b[0m\n",
      "\u001b[0;32m/opt/conda/lib/python3.7/site-packages/IPython/core/magic.py\u001b[0m in \u001b[0;36m<lambda>\u001b[0;34m(f, *a, **k)\u001b[0m\n\u001b[1;32m    185\u001b[0m     \u001b[0;31m# but it's overkill for just that one bit of state.\u001b[0m\u001b[0;34m\u001b[0m\u001b[0;34m\u001b[0m\u001b[0;34m\u001b[0m\u001b[0m\n\u001b[1;32m    186\u001b[0m     \u001b[0;32mdef\u001b[0m \u001b[0mmagic_deco\u001b[0m\u001b[0;34m(\u001b[0m\u001b[0marg\u001b[0m\u001b[0;34m)\u001b[0m\u001b[0;34m:\u001b[0m\u001b[0;34m\u001b[0m\u001b[0;34m\u001b[0m\u001b[0m\n\u001b[0;32m--> 187\u001b[0;31m         \u001b[0mcall\u001b[0m \u001b[0;34m=\u001b[0m \u001b[0;32mlambda\u001b[0m \u001b[0mf\u001b[0m\u001b[0;34m,\u001b[0m \u001b[0;34m*\u001b[0m\u001b[0ma\u001b[0m\u001b[0;34m,\u001b[0m \u001b[0;34m**\u001b[0m\u001b[0mk\u001b[0m\u001b[0;34m:\u001b[0m \u001b[0mf\u001b[0m\u001b[0;34m(\u001b[0m\u001b[0;34m*\u001b[0m\u001b[0ma\u001b[0m\u001b[0;34m,\u001b[0m \u001b[0;34m**\u001b[0m\u001b[0mk\u001b[0m\u001b[0;34m)\u001b[0m\u001b[0;34m\u001b[0m\u001b[0;34m\u001b[0m\u001b[0m\n\u001b[0m\u001b[1;32m    188\u001b[0m \u001b[0;34m\u001b[0m\u001b[0m\n\u001b[1;32m    189\u001b[0m         \u001b[0;32mif\u001b[0m \u001b[0mcallable\u001b[0m\u001b[0;34m(\u001b[0m\u001b[0marg\u001b[0m\u001b[0;34m)\u001b[0m\u001b[0;34m:\u001b[0m\u001b[0;34m\u001b[0m\u001b[0;34m\u001b[0m\u001b[0m\n",
      "\u001b[0;32m/opt/conda/lib/python3.7/site-packages/IPython/core/magics/script.py\u001b[0m in \u001b[0;36mshebang\u001b[0;34m(self, line, cell)\u001b[0m\n\u001b[1;32m    243\u001b[0m             \u001b[0msys\u001b[0m\u001b[0;34m.\u001b[0m\u001b[0mstderr\u001b[0m\u001b[0;34m.\u001b[0m\u001b[0mflush\u001b[0m\u001b[0;34m(\u001b[0m\u001b[0;34m)\u001b[0m\u001b[0;34m\u001b[0m\u001b[0;34m\u001b[0m\u001b[0m\n\u001b[1;32m    244\u001b[0m         \u001b[0;32mif\u001b[0m \u001b[0margs\u001b[0m\u001b[0;34m.\u001b[0m\u001b[0mraise_error\u001b[0m \u001b[0;32mand\u001b[0m \u001b[0mp\u001b[0m\u001b[0;34m.\u001b[0m\u001b[0mreturncode\u001b[0m\u001b[0;34m!=\u001b[0m\u001b[0;36m0\u001b[0m\u001b[0;34m:\u001b[0m\u001b[0;34m\u001b[0m\u001b[0;34m\u001b[0m\u001b[0m\n\u001b[0;32m--> 245\u001b[0;31m             \u001b[0;32mraise\u001b[0m \u001b[0mCalledProcessError\u001b[0m\u001b[0;34m(\u001b[0m\u001b[0mp\u001b[0m\u001b[0;34m.\u001b[0m\u001b[0mreturncode\u001b[0m\u001b[0;34m,\u001b[0m \u001b[0mcell\u001b[0m\u001b[0;34m,\u001b[0m \u001b[0moutput\u001b[0m\u001b[0;34m=\u001b[0m\u001b[0mout\u001b[0m\u001b[0;34m,\u001b[0m \u001b[0mstderr\u001b[0m\u001b[0;34m=\u001b[0m\u001b[0merr\u001b[0m\u001b[0;34m)\u001b[0m\u001b[0;34m\u001b[0m\u001b[0;34m\u001b[0m\u001b[0m\n\u001b[0m\u001b[1;32m    246\u001b[0m \u001b[0;34m\u001b[0m\u001b[0m\n\u001b[1;32m    247\u001b[0m     \u001b[0;32mdef\u001b[0m \u001b[0m_run_script\u001b[0m\u001b[0;34m(\u001b[0m\u001b[0mself\u001b[0m\u001b[0;34m,\u001b[0m \u001b[0mp\u001b[0m\u001b[0;34m,\u001b[0m \u001b[0mcell\u001b[0m\u001b[0;34m,\u001b[0m \u001b[0mto_close\u001b[0m\u001b[0;34m)\u001b[0m\u001b[0;34m:\u001b[0m\u001b[0;34m\u001b[0m\u001b[0;34m\u001b[0m\u001b[0m\n",
      "\u001b[0;31mCalledProcessError\u001b[0m: Command 'b'\\n# TODO 5a\\n\\nPROJECT= \"qwiklabs-gcp-04-7848f697df8a\" # TODO: Change this to your PROJECT\\nBUCKET=${PROJECT}\\nREGION=us-west1\\nMODEL_NAME=taxifare\\nVERSION_NAME=dnn\\n\\n# Create GCS bucket if it doesn\\'t exist already...\\nexists=$(gsutil ls -d | grep -w gs://${BUCKET}/)\\n\\nif [ -n \"$exists\" ]; then\\n    echo -e \"Bucket exists, let\\'s not recreate it.\"\\nelse\\n    echo \"Creating a new GCS bucket.\"\\n    gsutil mb -l ${REGION} gs://${BUCKET}\\n    echo \"Here are your current buckets:\"\\n    gsutil ls\\nfi\\n\\nif [[ $(gcloud ai-platform models list --format=\\'value(name)\\' --region=$REGION | grep $MODEL_NAME) ]]; then\\n    echo \"$MODEL_NAME already exists\"\\nelse\\n    echo \"Creating $MODEL_NAME\"\\n    gcloud ai-platform models create --region=$REGION $MODEL_NAME\\nfi\\n\\nif [[ $(gcloud ai-platform versions list --model $MODEL_NAME --region=$REGION --format=\\'value(name)\\' | grep $VERSION_NAME) ]]; then\\n    echo \"Deleting already existing $MODEL_NAME:$VERSION_NAME ... \"\\n    echo yes | gcloud ai-platform versions delete --model=$MODEL_NAME $VERSION_NAME --region=$REGION\\n    echo \"Please run this cell again if you don\\'t see a Creating message ... \"\\n    sleep 2\\nfi\\n\\necho \"Creating $MODEL_NAME:$VERSION_NAME\"\\ngcloud ai-platform versions create --model=$MODEL_NAME $VERSION_NAME \\\\\\n       --framework=tensorflow --python-version=3.7 --runtime-version=2.1 \\\\\\n       --origin=$EXPORT_PATH --staging-bucket=gs://$BUCKET --region=$REGION\\n'' returned non-zero exit status 2."
     ]
    }
   ],
   "source": [
    "%%bash\n",
    "\n",
    "# TODO 5a\n",
    "\n",
    "PROJECT= # TODO: Change this to your PROJECT\n",
    "BUCKET=${PROJECT}\n",
    "REGION=us-east1\n",
    "MODEL_NAME=taxifare\n",
    "VERSION_NAME=dnn\n",
    "\n",
    "# Create GCS bucket if it doesn't exist already...\n",
    "exists=$(gsutil ls -d | grep -w gs://${BUCKET}/)\n",
    "\n",
    "if [ -n \"$exists\" ]; then\n",
    "    echo -e \"Bucket exists, let's not recreate it.\"\n",
    "else\n",
    "    echo \"Creating a new GCS bucket.\"\n",
    "    gsutil mb -l ${REGION} gs://${BUCKET}\n",
    "    echo \"Here are your current buckets:\"\n",
    "    gsutil ls\n",
    "fi\n",
    "\n",
    "if [[ $(gcloud ai-platform models list --format='value(name)' --region=$REGION | grep $MODEL_NAME) ]]; then\n",
    "    echo \"$MODEL_NAME already exists\"\n",
    "else\n",
    "    echo \"Creating $MODEL_NAME\"\n",
    "    gcloud ai-platform models create --region=$REGION $MODEL_NAME\n",
    "fi\n",
    "\n",
    "if [[ $(gcloud ai-platform versions list --model $MODEL_NAME --region=$REGION --format='value(name)' | grep $VERSION_NAME) ]]; then\n",
    "    echo \"Deleting already existing $MODEL_NAME:$VERSION_NAME ... \"\n",
    "    echo yes | gcloud ai-platform versions delete --model=$MODEL_NAME $VERSION_NAME --region=$REGION\n",
    "    echo \"Please run this cell again if you don't see a Creating message ... \"\n",
    "    sleep 2\n",
    "fi\n",
    "\n",
    "echo \"Creating $MODEL_NAME:$VERSION_NAME\"\n",
    "gcloud ai-platform versions create --model=$MODEL_NAME $VERSION_NAME \\\n",
    "       --framework=tensorflow --python-version=3.7 --runtime-version=2.1 \\\n",
    "       --origin=$EXPORT_PATH --staging-bucket=gs://$BUCKET --region=$REGION"
   ]
  },
  {
   "cell_type": "code",
   "execution_count": null,
   "metadata": {},
   "outputs": [],
   "source": [
    "%%writefile input.json\n",
    "{\"pickup_longitude\": -73.982683, \"pickup_latitude\": 40.742104,\"dropoff_longitude\": -73.983766,\"dropoff_latitude\": 40.755174,\"passenger_count\": 3.0}  "
   ]
  },
  {
   "cell_type": "code",
   "execution_count": null,
   "metadata": {},
   "outputs": [],
   "source": [
    "# The `gcloud ai-platform predict` sends a prediction request to AI Platform for the given instances.\n",
    "# TODO 5b\n",
    "!gcloud ai-platform predict --model taxifare --json-instances input.json --version dnn --region us-east1"
   ]
  },
  {
   "cell_type": "markdown",
   "metadata": {},
   "source": [
    "Copyright 2020 Google Inc. Licensed under the Apache License, Version 2.0 (the \"License\"); you may not use this file except in compliance with the License. You may obtain a copy of the License at http://www.apache.org/licenses/LICENSE-2.0 Unless required by applicable law or agreed to in writing, software distributed under the License is distributed on an \"AS IS\" BASIS, WITHOUT WARRANTIES OR CONDITIONS OF ANY KIND, either express or implied. See the License for the specific language governing permissions and limitations under the License"
   ]
  }
 ],
 "metadata": {
  "environment": {
   "kernel": "python3",
   "name": "tf2-gpu.2-6.m87",
   "type": "gcloud",
   "uri": "gcr.io/deeplearning-platform-release/tf2-gpu.2-6:m87"
  },
  "kernelspec": {
   "display_name": "Python 3",
   "language": "python",
   "name": "python3"
  },
  "language_info": {
   "codemirror_mode": {
    "name": "ipython",
    "version": 3
   },
   "file_extension": ".py",
   "mimetype": "text/x-python",
   "name": "python",
   "nbconvert_exporter": "python",
   "pygments_lexer": "ipython3",
   "version": "3.7.12"
  }
 },
 "nbformat": 4,
 "nbformat_minor": 4
}
